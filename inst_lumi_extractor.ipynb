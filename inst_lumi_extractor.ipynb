{
 "cells": [
  {
   "cell_type": "code",
   "execution_count": 1,
   "metadata": {},
   "outputs": [
    {
     "name": "stderr",
     "output_type": "stream",
     "text": [
      "Using TensorFlow backend.\n"
     ]
    }
   ],
   "source": [
    "import math\n",
    "import numpy as np\n",
    "import pandas as pd\n",
    "import tensorflow as tf\n",
    "\n",
    "import matplotlib\n",
    "import matplotlib.pyplot as plt\n",
    "import matplotlib.dates as mdates\n",
    "from mpl_toolkits.axes_grid1 import make_axes_locatable\n",
    "\n",
    "from scipy import ndimage, misc\n",
    "import datetime\n",
    "from datetime import timedelta\n",
    "\n",
    "import keras\n",
    "from keras import backend as K\n",
    "from keras.callbacks import EarlyStopping, ModelCheckpoint\n",
    "from keras.models import Sequential, load_model\n",
    "from keras.layers import Dense, Flatten, Reshape, Conv1D, MaxPooling1D, AveragePooling1D, UpSampling1D, InputLayer\n",
    "\n",
    "from scipy import ndimage, misc\n",
    "\n",
    "from sklearn import svm\n",
    "from sklearn.ensemble import IsolationForest\n",
    "from sklearn.metrics import accuracy_score, confusion_matrix, roc_curve, auc\n",
    "from sklearn.model_selection import cross_val_score, train_test_split, StratifiedKFold, GridSearchCV\n",
    "from sklearn.preprocessing import MaxAbsScaler"
   ]
  },
  {
   "cell_type": "code",
   "execution_count": 2,
   "metadata": {},
   "outputs": [],
   "source": [
    "# Change presentation settings\n",
    "%matplotlib inline\n",
    "\n",
    "matplotlib.rcParams[\"figure.figsize\"] = (15.0, 8.0)\n",
    "matplotlib.rcParams[\"xtick.labelsize\"] = 16\n",
    "matplotlib.rcParams[\"ytick.labelsize\"] = 16\n",
    "matplotlib.rcParams[\"axes.spines.left\"] = True\n",
    "matplotlib.rcParams[\"axes.spines.bottom\"] = True\n",
    "matplotlib.rcParams[\"axes.spines.right\"] = True\n",
    "matplotlib.rcParams[\"axes.spines.top\"] = True\n",
    "matplotlib.rcParams[\"axes.titlesize\"] = 16\n",
    "matplotlib.rcParams[\"figure.titlesize\"] = 16\n",
    "matplotlib.rcParams[\"axes.labelsize\"] = 14\n",
    "matplotlib.rcParams[\"legend.fontsize\"] = 14"
   ]
  },
  {
   "cell_type": "code",
   "execution_count": 3,
   "metadata": {},
   "outputs": [],
   "source": [
    "#runs = [302634, 302635, 305814, 306121, 306122, 306125, 306126]\n",
    "#runs = [306121, 306122, 306125, 306126]\n",
    "runs = [306121, 306122, 306126]\n",
    "lumi_directory = data_directory = \"./lumi\"\n",
    "rates_directory = \"./rates\""
   ]
  },
  {
   "cell_type": "markdown",
   "metadata": {},
   "source": [
    "Reading instantaneous luminosities from the cvs file produced with brilcalc and saving into a pandas dataframe:"
   ]
  },
  {
   "cell_type": "code",
   "execution_count": 4,
   "metadata": {},
   "outputs": [
    {
     "name": "stdout",
     "output_type": "stream",
     "text": [
      "Loading 306121\n",
      "Loading 306122\n",
      "Loading 306126\n",
      "Done.\n"
     ]
    }
   ],
   "source": [
    "df_rates = pd.DataFrame()\n",
    "int_lumi2 = pd.DataFrame()\n",
    "for run in runs:\n",
    "    print(\"Loading %s\" % run)\n",
    "    path = \"%s/lumi_%s.csv\" % (lumi_directory, run)\n",
    "    int_lumi2 = int_lumi2.append(pd.read_csv(path,\n",
    "        names=[\"runfill\", \"ls\", \"time\", \"beamstatus\", \"energy\", \"delivered\", \"recorded\", \"avgpu\", \"source\"]), \n",
    "        ignore_index=True);    \n",
    "    path = \"%s/dt_rates_%s.csv\" % (rates_directory, run)\n",
    "    df_rates = df_rates.append(pd.read_csv(path, \n",
    "        names=[\"run\", \"time\", \"board\", \"RPC1\", \"RPC2\", \"RPC3\", \"RPC4\", \"DT1\", \"DT2\", \"DT3\", \"DT4\", \"DT5\"]), \n",
    "        ignore_index=True);\n",
    "print(\"Done.\")"
   ]
  },
  {
   "cell_type": "markdown",
   "metadata": {},
   "source": [
    "Dropping useless rows from the lumi dataframe:"
   ]
  },
  {
   "cell_type": "code",
   "execution_count": 5,
   "metadata": {},
   "outputs": [],
   "source": [
    "int_lumi2[\"source\"] = int_lumi2[\"source\"].astype('str')\n",
    "int_lumi2 = int_lumi2[int_lumi2[\"source\"] != \"nan\"]\n",
    "int_lumi2 = int_lumi2[int_lumi2[\"source\"] != \"source\"]"
   ]
  },
  {
   "cell_type": "markdown",
   "metadata": {},
   "source": [
    "Splitting run:fill and the start and end luminosities:"
   ]
  },
  {
   "cell_type": "code",
   "execution_count": 6,
   "metadata": {},
   "outputs": [],
   "source": [
    "int_lumi2['run'], int_lumi2['fill'] = int_lumi2['runfill'].str.split(':', 1).str\n",
    "int_lumi2['ls_start'], int_lumi2['ls_end'] = int_lumi2['ls'].str.split(':', 1).str"
   ]
  },
  {
   "cell_type": "markdown",
   "metadata": {},
   "source": [
    "Converting run to integer and luminosities to float:"
   ]
  },
  {
   "cell_type": "code",
   "execution_count": 7,
   "metadata": {},
   "outputs": [],
   "source": [
    "int_lumi2[\"run\"] = int_lumi2[\"run\"].astype('int')\n",
    "int_lumi2[\"ls_start\"] = int_lumi2[\"ls_start\"].astype('int')\n",
    "int_lumi2[\"ls_end\"] = int_lumi2[\"ls_end\"].astype('int')\n",
    "int_lumi2[\"delivered\"] = int_lumi2[\"delivered\"].astype('float64')\n",
    "int_lumi2[\"recorded\"] = int_lumi2[\"recorded\"].astype('float64') "
   ]
  },
  {
   "cell_type": "markdown",
   "metadata": {},
   "source": [
    "Converting time stamp to datetime:"
   ]
  },
  {
   "cell_type": "code",
   "execution_count": 8,
   "metadata": {},
   "outputs": [],
   "source": [
    "def transform_time(data):\n",
    "    from datetime import datetime\n",
    "    time_str = data.time\n",
    "    #print time_str\n",
    "    datetime_object = datetime.strptime(time_str, \"%m/%d/%y %H:%M:%S\")\n",
    "    #print datetime_object\n",
    "    return datetime_object\n",
    "int_lumi2[\"time\"] = int_lumi2.apply(transform_time, axis=1);"
   ]
  },
  {
   "cell_type": "markdown",
   "metadata": {},
   "source": [
    "Creating end time column from the start time:"
   ]
  },
  {
   "cell_type": "code",
   "execution_count": 9,
   "metadata": {},
   "outputs": [],
   "source": [
    "int_lumi2[\"time_end\"] = int_lumi2[\"time\"]"
   ]
  },
  {
   "cell_type": "markdown",
   "metadata": {},
   "source": [
    "Finding the runs and their start and end times:"
   ]
  },
  {
   "cell_type": "code",
   "execution_count": 10,
   "metadata": {},
   "outputs": [
    {
     "name": "stdout",
     "output_type": "stream",
     "text": [
      "306121 2017-11-03 13:10:09 2017-11-03 13:52:52 42 152 111\n",
      "306122 2017-11-03 13:53:18 2017-11-03 14:46:08 1 137 137\n",
      "306126 2017-11-04 10:14:24 2017-11-04 13:28:39 1 501 501\n"
     ]
    }
   ],
   "source": [
    "boundaries = pd.DataFrame(columns=[\"run\", \"start\", \"end\", \"ls_start\", \"ls_end\", \"nLS\"])\n",
    "for i in runs:\n",
    "    start = int_lumi2[int_lumi2[\"run\"] == i][\"time\"]\n",
    "    end = int_lumi2[int_lumi2[\"run\"] == i][\"time_end\"]\n",
    "    start_ls = int_lumi2[int_lumi2[\"run\"] == i][\"ls_start\"]\n",
    "    end_ls = int_lumi2[int_lumi2[\"run\"] == i][\"ls_end\"]\n",
    "    start =  start.reset_index(drop=True)\n",
    "    end =  end.reset_index(drop=True)\n",
    "    start_ls =  start_ls.reset_index(drop=True)\n",
    "    end_ls =  end_ls.reset_index(drop=True)\n",
    "    nLS = int(start_ls.iloc[-1]) - int(start_ls.iloc[0]) + 1\n",
    "    print i, start.iloc[0], start.iloc[-1], start_ls.iloc[0], start_ls.iloc[-1], nLS\n",
    "    boundaries = boundaries.append({\"run\": i, \"start\": start.iloc[0], \"end\": start.iloc[-1], \n",
    "                                   \"ls_start\": start_ls.iloc[0], \"ls_end\": start_ls.iloc[-1], \"nLS\": nLS}, \n",
    "                                   ignore_index = True)"
   ]
  },
  {
   "cell_type": "markdown",
   "metadata": {},
   "source": [
    "Reindexing the dataframe after removing some lines:"
   ]
  },
  {
   "cell_type": "code",
   "execution_count": 11,
   "metadata": {},
   "outputs": [],
   "source": [
    "int_lumi2.index = pd.RangeIndex(len(int_lumi2.index))"
   ]
  },
  {
   "cell_type": "code",
   "execution_count": 12,
   "metadata": {},
   "outputs": [
    {
     "name": "stdout",
     "output_type": "stream",
     "text": [
      "749\n"
     ]
    }
   ],
   "source": [
    "print len(int_lumi2.index)"
   ]
  },
  {
   "cell_type": "markdown",
   "metadata": {},
   "source": [
    "Filling end time column:"
   ]
  },
  {
   "cell_type": "code",
   "execution_count": 13,
   "metadata": {},
   "outputs": [],
   "source": [
    "def addTimeOffSet(startdate):\n",
    "    enddate = pd.to_datetime(startdate) + pd.DateOffset(seconds=23)\n",
    "    return enddate\n",
    "\n",
    "def shiftElement(df, boundaries):\n",
    "    run0 = boundaries[\"run\"].iloc[0]\n",
    "    for index, rows in df.iterrows():\n",
    "        run = rows[\"run\"]\n",
    "        nls = int(boundaries[boundaries[\"run\"] == run][\"nLS\"])\n",
    "        if(run > run0):\n",
    "            nls = nls + index\n",
    "        #print run, nls\n",
    "        if((index < nls) & (index < len(int_lumi2.index)-1)):\n",
    "            #print index, run, rows[\"time\"], df[\"time\"][index+1]\n",
    "            df.loc[index, \"time_end\"] = df[\"time\"][index+1]\n",
    "        elif (index == len(int_lumi2.index)-1):\n",
    "            #print index, run, rows[\"time\"], addTimeOffSet(rows[\"time\"])\n",
    "            df.loc[index, \"time_end\"] = addTimeOffSet(rows[\"time\"])\n",
    "                    \n",
    "shiftElement(int_lumi2, boundaries)"
   ]
  },
  {
   "cell_type": "code",
   "execution_count": 14,
   "metadata": {},
   "outputs": [],
   "source": [
    "def plot_inst_lumi(x_val, y_val, z_val, title):\n",
    "    fig, ax = plt.subplots()\n",
    "    plt.xlabel(\"Time\")\n",
    "    plt.ylabel(\"Inst. Lumi. [E30 Hz/cm$^2$]\")\n",
    "    xfmt = mdates.DateFormatter('%y-%m-%d %H:%M:%S')\n",
    "    ax.xaxis.set_major_formatter(xfmt)\n",
    "    ax.grid()\n",
    "    fig.autofmt_xdate()\n",
    "    plt.plot(x_val, y_val, 'ro-')\n",
    "    plt.plot(x_val, z_val, 'bo-')\n",
    "    plt.title(title)\n",
    "    plt.legend(loc=\"best\")\n",
    "    plt.show();"
   ]
  },
  {
   "cell_type": "code",
   "execution_count": 15,
   "metadata": {},
   "outputs": [
    {
     "data": {
      "image/png": "[encoded data removed]",
      "text/plain": [
       "<matplotlib.figure.Figure at 0x1042c8bd0>"
      ]
     },
     "metadata": {},
     "output_type": "display_data"
    }
   ],
   "source": [
    "plot_inst_lumi(int_lumi2[int_lumi2[\"run\"] == 306121][\"time\"], \n",
    "               int_lumi2[int_lumi2[\"run\"] == 306121][\"delivered\"], \n",
    "               int_lumi2[int_lumi2[\"run\"] == 306121][\"recorded\"], \n",
    "               (\"Instantaneous Luminosity for Run / Fill: %s / %s\" % \n",
    "               (boundaries[\"run\"].iloc[0], int_lumi2[\"fill\"].iloc[0])))"
   ]
  },
  {
   "cell_type": "code",
   "execution_count": 110,
   "metadata": {},
   "outputs": [
    {
     "data": {
      "image/png": "[encoded data removed]",
      "text/plain": [
       "<matplotlib.figure.Figure at 0x11748b710>"
      ]
     },
     "metadata": {},
     "output_type": "display_data"
    }
   ],
   "source": [
    "plot_inst_lumi(int_lumi2[int_lumi2[\"run\"] == 306122][\"time\"], \n",
    "               int_lumi2[int_lumi2[\"run\"] == 306122][\"delivered\"], \n",
    "               int_lumi2[int_lumi2[\"run\"] == 306122][\"recorded\"], \n",
    "               (\"Instantaneous Luminosity for Run / Fill: %s / %s\" % \n",
    "               (boundaries[\"run\"].iloc[1], int_lumi2[\"fill\"].iloc[0])))"
   ]
  },
  {
   "cell_type": "code",
   "execution_count": 111,
   "metadata": {},
   "outputs": [
    {
     "data": {
      "image/png": "[encoded data removed]",
      "text/plain": [
       "<matplotlib.figure.Figure at 0x1174568d0>"
      ]
     },
     "metadata": {},
     "output_type": "display_data"
    }
   ],
   "source": [
    "plot_inst_lumi(int_lumi2[int_lumi2[\"run\"] == 306126][\"time\"], \n",
    "               int_lumi2[int_lumi2[\"run\"] == 306126][\"delivered\"], \n",
    "               int_lumi2[int_lumi2[\"run\"] == 306126][\"recorded\"], \n",
    "               (\"Instantaneous Luminosity for Run / Fill: %s / %s\" % \n",
    "               (boundaries[\"run\"].iloc[2], int_lumi2[\"fill\"].iloc[0])))"
   ]
  },
  {
   "cell_type": "code",
   "execution_count": 113,
   "metadata": {},
   "outputs": [],
   "source": [
    "int_lumi2.to_csv(\"int_lumi2.csv\", sep='\\t')"
   ]
  },
  {
   "cell_type": "markdown",
   "metadata": {},
   "source": [
    "Reading rates from the cvs files produced by the script and saving the informations into a new pandas dataframe:"
   ]
  },
  {
   "cell_type": "code",
   "execution_count": 16,
   "metadata": {},
   "outputs": [],
   "source": [
    "df_rates[\"time\"] = pd.to_datetime(df_rates[\"time\"])\n",
    "df_rates[\"run\"] = df_rates[\"run\"].astype('int')\n",
    "#print df_rates[\"time\"]"
   ]
  },
  {
   "cell_type": "markdown",
   "metadata": {},
   "source": [
    "Converting and splitting:"
   ]
  },
  {
   "cell_type": "code",
   "execution_count": 17,
   "metadata": {},
   "outputs": [],
   "source": [
    "df_rates['wheel'], df_rates['sector'] = df_rates['board'].str.split('_', 1).str\n",
    "df_rates[\"wheel\"] = df_rates[\"wheel\"].astype(str)\n",
    "df_rates[\"sector\"] = df_rates[\"sector\"].astype(str)"
   ]
  },
  {
   "cell_type": "code",
   "execution_count": 18,
   "metadata": {},
   "outputs": [],
   "source": [
    "df_rates[\"wheel\"].replace(regex=True,inplace=True,to_replace=r'YB',value=r'')\n",
    "df_rates[\"sector\"].replace(regex=True,inplace=True,to_replace=r'S',value=r'')\n",
    "df_rates[\"wheel\"] = df_rates[\"wheel\"].astype('int')\n",
    "df_rates[\"sector\"] = df_rates[\"sector\"].astype('int')\n",
    "df_rates[\"ls\"] = -1\n",
    "df_rates[\"lumi\"] = -1.0\n",
    "df_rates[\"score\"] = -1\n",
    "df_rates[\"errorRPC1\"] = -1.0\n",
    "df_rates[\"errorRPC2\"] = -1.0\n",
    "df_rates[\"errorRPC3\"] = -1.0\n",
    "df_rates[\"errorRPC4\"] = -1.0\n",
    "df_rates[\"errorDT1\"] = -1.0\n",
    "df_rates[\"errorDT2\"] = -1.0\n",
    "df_rates[\"errorDT3\"] = -1.0\n",
    "df_rates[\"errorDT4\"] = -1.0\n",
    "df_rates[\"errorDT5\"] = -1.0\n",
    "df_rates.to_csv(\"df_rates.csv\", sep='\\t')"
   ]
  },
  {
   "cell_type": "code",
   "execution_count": 108,
   "metadata": {},
   "outputs": [
    {
     "data": {
      "image/png": "[encoded data removed]",
      "text/plain": [
       "<matplotlib.figure.Figure at 0x1182ef410>"
      ]
     },
     "metadata": {},
     "output_type": "display_data"
    }
   ],
   "source": [
    "def plot_rate_vs_time(df, x_val, y_val, z_val, title):\n",
    "    df_temp = df.copy()\n",
    "    crit = df_temp[\"board\"] == z_val\n",
    "    df_temp = df_temp[crit]\n",
    "    fig, ax = plt.subplots()\n",
    "    plt.xlabel(\"Time\")\n",
    "    plt.ylabel(\"Rate [Hz]\")\n",
    "    ax.xaxis_date()\n",
    "    xfmt = mdates.DateFormatter('%d-%m-%y %H:%M:%S')\n",
    "    ax.xaxis.set_major_formatter(xfmt)\n",
    "    ax.grid()\n",
    "    fig.autofmt_xdate()\n",
    "    plt.plot(df_temp[x_val], df_temp[y_val], 'ro-')\n",
    "    plt.title(title)\n",
    "    plt.legend(loc=\"best\")\n",
    "    plt.show();\n",
    "\n",
    "plot_rate_vs_time(df_rates, \"time\", \"DT1\", \"YB+1_S4\", \"Rates for Runs / Fill / Board: %s / %s / %s\" % \n",
    "                  (str(boundaries[\"run\"].iloc[0])+\"-\"+str(boundaries[\"run\"].iloc[2]), \n",
    "                   int_lumi2[\"fill\"].iloc[2], \"YB+1_S4\"))"
   ]
  },
  {
   "cell_type": "markdown",
   "metadata": {},
   "source": [
    "Associating a LS to each rate:"
   ]
  },
  {
   "cell_type": "code",
   "execution_count": 19,
   "metadata": {},
   "outputs": [],
   "source": [
    "df_rates_backup = df_rates.copy()"
   ]
  },
  {
   "cell_type": "code",
   "execution_count": 20,
   "metadata": {},
   "outputs": [],
   "source": [
    "#df_rates = df_rates_backup"
   ]
  },
  {
   "cell_type": "code",
   "execution_count": 21,
   "metadata": {},
   "outputs": [
    {
     "name": "stdout",
     "output_type": "stream",
     "text": [
      "Duplicates: 97586\n"
     ]
    }
   ],
   "source": [
    "time0 = boundaries[\"start\"].iloc[0]\n",
    "timeF = boundaries[\"start\"].iloc[-1]\n",
    "#print time0, timeF\n",
    "#print df_rates[(df_rates.time >= time0) & (df_rates.time <= timeF)]\n",
    "df_rates = df_rates[(df_rates.time >= time0) & (df_rates.time <= timeF)]\n",
    "rule = df_rates.duplicated(subset=[\"time\"])\n",
    "count = (rule == False).sum()\n",
    "print \"Duplicates:\", rule.sum()\n",
    "df_rates_noduplicates = df_rates[rule == False]\n",
    "#print df_rates_noduplicates"
   ]
  },
  {
   "cell_type": "code",
   "execution_count": 22,
   "metadata": {},
   "outputs": [
    {
     "name": "stdout",
     "output_type": "stream",
     "text": [
      "1654\n"
     ]
    }
   ],
   "source": [
    "print len(df_rates_noduplicates)"
   ]
  },
  {
   "cell_type": "code",
   "execution_count": 114,
   "metadata": {},
   "outputs": [],
   "source": [
    "def assignLS(df1, df2, boundaries):\n",
    "    temp = df1.copy()\n",
    "    j = 1\n",
    "    for index1, row1 in df1.iterrows():\n",
    "        run1 = row1[\"run\"]\n",
    "        time1 = row1[\"time\"]\n",
    "        #print index1, run1, time1\n",
    "        ti = time1 - 2*pd.DateOffset(seconds=23)\n",
    "        tf = time1 + 2*pd.DateOffset(seconds=23)\n",
    "        indexes2 = df2[(df2.run == run1) & (df2.time > ti) & (df2.time < tf)].index\n",
    "        #print indexes2\n",
    "        for i in indexes2:\n",
    "            if((time1 >= df2[\"time\"].loc[i]) & (time1 < df2[\"time_end\"].loc[i])):\n",
    "                #print time1, df2[\"time\"].loc[i], df2[\"time_end\"].loc[i]\n",
    "                if(j%1000 == 0): \n",
    "                    print j\n",
    "                j = j + 1\n",
    "                ls = df2[\"ls_start\"].loc[i]\n",
    "                lumi = df2[\"delivered\"].loc[i]\n",
    "                #print index1, run1, time1, ls, lumi\n",
    "                temp.loc[index1, \"ls\"] = ls\n",
    "                temp.loc[index1, \"lumi\"] = lumi\n",
    "                break\n",
    "    return temp\n",
    "\n",
    "temp = assignLS(df_rates_noduplicates, int_lumi2, boundaries)\n",
    "df_rates_noduplicates = temp"
   ]
  },
  {
   "cell_type": "code",
   "execution_count": 27,
   "metadata": {},
   "outputs": [
    {
     "name": "stdout",
     "output_type": "stream",
     "text": [
      "1644\n"
     ]
    }
   ],
   "source": [
    "df_rates_noduplicates = df_rates_noduplicates[df_rates_noduplicates[\"ls\"] > 0]\n",
    "print len(df_rates_noduplicates)"
   ]
  },
  {
   "cell_type": "code",
   "execution_count": 28,
   "metadata": {},
   "outputs": [],
   "source": [
    "df_rates.to_csv(\"df_rates.csv\", sep='\\t')\n",
    "df_rates_noduplicates.to_csv(\"df_rates_nodup.csv\", sep='\\t')"
   ]
  },
  {
   "cell_type": "code",
   "execution_count": 29,
   "metadata": {},
   "outputs": [],
   "source": [
    "#df_rates = df_rates_backup"
   ]
  },
  {
   "cell_type": "code",
   "execution_count": 115,
   "metadata": {},
   "outputs": [],
   "source": [
    "def assignLS(df1, df2):\n",
    "    temp = df1.copy()\n",
    "    for index1 in df2.index:\n",
    "        #print index1\n",
    "        time = df1.time.loc[index1]\n",
    "        red = df2[df2[\"time\"] == time]\n",
    "        if(len(red) > 0):\n",
    "            ls = red[\"ls\"].iloc[0]\n",
    "            lumi = red[\"lumi\"].iloc[0]\n",
    "            for i in range(index1, index1+60):\n",
    "                #print i, time, ls, lumi\n",
    "                temp.loc[i, \"ls\"] = ls\n",
    "                temp.loc[i, \"lumi\"] = lumi\n",
    "    return temp\n",
    "    \n",
    "temp = assignLS(df_rates, df_rates_noduplicates)\n",
    "df_rates = temp"
   ]
  },
  {
   "cell_type": "code",
   "execution_count": 116,
   "metadata": {},
   "outputs": [],
   "source": [
    "print df_rates[df_rates.ls <= 0]"
   ]
  },
  {
   "cell_type": "code",
   "execution_count": 33,
   "metadata": {},
   "outputs": [],
   "source": [
    "df_rates = df_rates[df_rates.ls > 0]\n",
    "#print df_rates[\"ls\"]"
   ]
  },
  {
   "cell_type": "code",
   "execution_count": 117,
   "metadata": {},
   "outputs": [],
   "source": [
    "#print df_rates[df_rates.ls <= 0]\n",
    "df_rates.to_csv(\"df_rates.csv\", sep='\\t')"
   ]
  },
  {
   "cell_type": "markdown",
   "metadata": {},
   "source": [
    "Averaging the rates associated to the same LS:"
   ]
  },
  {
   "cell_type": "code",
   "execution_count": 35,
   "metadata": {},
   "outputs": [
    {
     "name": "stdout",
     "output_type": "stream",
     "text": [
      "60\n"
     ]
    }
   ],
   "source": [
    "df_boards = df_rates[\"board\"]\n",
    "df_boards = df_boards[df_boards.duplicated() == False]\n",
    "print len(df_boards)"
   ]
  },
  {
   "cell_type": "code",
   "execution_count": 119,
   "metadata": {},
   "outputs": [],
   "source": [
    "#print len(df_rates)\n",
    "#print df_rates[(df_rates[\"ls\"] == 42) & (df_rates[\"board\"] == \"YB0_S1\")][\"lumi\"]"
   ]
  },
  {
   "cell_type": "code",
   "execution_count": 121,
   "metadata": {},
   "outputs": [],
   "source": [
    "#algos = [\"RPC1\", \"RPC2\", \"RPC3\", \"RPC4\",\"DT1\", \"DT2\", \"DT3\", \"DT4\", \"DT5\"] #full set of inputs to the TwinMux\n",
    "algos = [\"DT1\", \"DT2\", \"DT3\", \"DT4\", \"DT5\"]\n",
    "resultAverage2 = []\n",
    "for board in df_boards:\n",
    "    #print board\n",
    "    for run in runs:\n",
    "        rate = df_rates[(df_rates[\"board\"] == board) & (df_rates[\"run\"] == run)]\n",
    "        count = len(rate) #Number of LS\n",
    "        #print \"nLS:\", count\n",
    "        for i in range(1, count+1): #Loop over the LS\n",
    "            #print i\n",
    "            average = [] #List of average rates for each algos\n",
    "            std_dev = [] #List of uncertainties for each algos\n",
    "            index0 = -1 #Index of the first duplicate, the one that will survive\n",
    "            rate2 = rate[rate[\"ls\"] == i] #Duplicates with the same LS\n",
    "            if(len(rate2) == 0):\n",
    "                continue\n",
    "            #print rate2\n",
    "            for x in algos:\n",
    "                #print run, i, x, rate2[x]\n",
    "                indexes = rate2[x].index\n",
    "                mean = round(rate2[x].mean(), 1)\n",
    "                std = 0\n",
    "                std_mean = 0 \n",
    "                if(len(indexes) > 1):\n",
    "                    std = round(rate2[x].std(), 1)\n",
    "                    std_mean = round(std/rate2[x].count(), 1)\n",
    "                index0 = indexes[0]\n",
    "                #print index0, mean, std, rate2[x].count(), std_mean\n",
    "                average.append(mean)\n",
    "                std_dev.append(std_mean)\n",
    "            #print run, i, index0 , average, std_dev\n",
    "            resultAverage2.append([i, index0, average, std_dev])\n",
    "        #print resultAverage2"
   ]
  },
  {
   "cell_type": "code",
   "execution_count": 122,
   "metadata": {},
   "outputs": [
    {
     "name": "stdout",
     "output_type": "stream",
     "text": [
      "0\n",
      "1644\n"
     ]
    }
   ],
   "source": [
    "print len(resultAverage2)\n",
    "print len(df_rates_noduplicates)"
   ]
  },
  {
   "cell_type": "code",
   "execution_count": 47,
   "metadata": {},
   "outputs": [],
   "source": [
    "df_rates_backup = df_rates.copy()\n",
    "df_rates.to_csv(\"df_rates.csv\", sep='\\t')"
   ]
  },
  {
   "cell_type": "code",
   "execution_count": 61,
   "metadata": {},
   "outputs": [],
   "source": [
    "#df_rates = df_rates_backup"
   ]
  },
  {
   "cell_type": "code",
   "execution_count": 74,
   "metadata": {},
   "outputs": [
    {
     "name": "stdout",
     "output_type": "stream",
     "text": [
      "98640\n"
     ]
    }
   ],
   "source": [
    "print len(df_rates)"
   ]
  },
  {
   "cell_type": "markdown",
   "metadata": {},
   "source": [
    "Assigning the average rates previously calculated to the remaining rows:"
   ]
  },
  {
   "cell_type": "code",
   "execution_count": 75,
   "metadata": {},
   "outputs": [],
   "source": [
    "#maybe filling directly noduplicates?\n",
    "#0: ls, 1: index0, 2: average rates, 3: uncertanties\n",
    "for obj in resultAverage2:\n",
    "    #print obj[0], obj[1], obj[2], obj[3]\n",
    "    if (len(obj[2]) == 0):\n",
    "        continue\n",
    "    index = obj[1]\n",
    "    if index not in df_rates.index:\n",
    "        continue\n",
    "    for algo in algos:\n",
    "        index_algo = algos.index(algo)\n",
    "        #print obj[2][index_algo], obj[3][index_algo], str(algo)\n",
    "        df_rates.loc[index, str(algo)] = obj[2][index_algo]\n",
    "        df_rates.loc[index, \"error\"+str(algo)] = obj[3][index_algo]"
   ]
  },
  {
   "cell_type": "code",
   "execution_count": 77,
   "metadata": {},
   "outputs": [],
   "source": [
    "df_rates_backup = df_rates.copy()\n",
    "df_rates.to_csv(\"df_rates.csv\", sep='\\t')"
   ]
  },
  {
   "cell_type": "markdown",
   "metadata": {},
   "source": [
    "Removing the duplicates:"
   ]
  },
  {
   "cell_type": "code",
   "execution_count": 80,
   "metadata": {},
   "outputs": [
    {
     "name": "stdout",
     "output_type": "stream",
     "text": [
      "Duplicates: 84600\n"
     ]
    }
   ],
   "source": [
    "rule = df_rates.duplicated(subset=[\"run\", \"wheel\", \"sector\", \"ls\"])\n",
    "print \"Duplicates:\", rule.sum()\n",
    "df_rates = df_rates[rule == False]"
   ]
  },
  {
   "cell_type": "code",
   "execution_count": 125,
   "metadata": {},
   "outputs": [],
   "source": [
    "#Check one case\n",
    "for index, row in df_rates.iterrows():\n",
    "    if row[\"board\"] == \"YB0_S1\":\n",
    "        print \"Index:\", index,\", Run:\", row[\"run\"],\", Board: \",row[\"board\"],\", LS: \",row[\"ls\"],\", Rate: \",row[\"DT1\"],\", Error: \",row[\"errorDT1\"]"
   ]
  },
  {
   "cell_type": "markdown",
   "metadata": {},
   "source": [
    "Plotting the result:"
   ]
  },
  {
   "cell_type": "code",
   "execution_count": 106,
   "metadata": {},
   "outputs": [
    {
     "data": {
      "image/png": "[encoded data removed]",
      "text/plain": [
       "<matplotlib.figure.Figure at 0x117cde750>"
      ]
     },
     "metadata": {},
     "output_type": "display_data"
    },
    {
     "data": {
      "image/png": "[encoded data removed]",
      "text/plain": [
       "<matplotlib.figure.Figure at 0x1160bfc50>"
      ]
     },
     "metadata": {},
     "output_type": "display_data"
    }
   ],
   "source": [
    "def plot_rate_vs_ls(df, run, x_val, y_val, z_val, x_err, y_err, title_x, title_y, title, opt):\n",
    "    df_temp = df.copy()\n",
    "    rule = ((df_temp[\"board\"] == z_val) & (df_temp[\"run\"] == run))\n",
    "    df_temp = df_temp[rule]\n",
    "    fig, ax = plt.subplots()\n",
    "    plt.xlabel(title_x)\n",
    "    plt.ylabel(title_y)\n",
    "    ax.grid()\n",
    "    fig.autofmt_xdate()\n",
    "    plt.plot(df_temp[x_val], df_temp[y_val], opt)\n",
    "    plt.legend(loc=\"best\")\n",
    "    plt.errorbar(df_temp[x_val], df_temp[y_val], xerr=x_err, yerr=df_temp[y_err], fmt='ro', ecolor='r')\n",
    "    plt.title(title)\n",
    "    plt.show();\n",
    "\n",
    "title = \"Rates for Fill/Run/Board: \"+str(int_lumi2[\"fill\"].iloc[0])+\" / \"+str(df_rates[\"run\"].iloc[0])+\" / YB+1_S4\"\n",
    "plot_rate_vs_ls(df_rates, 306121, \"ls\", \"DT1\", \"YB+1_S4\", 0, \"errorDT1\", \"LS\", \"Rate [Hz]\", title, \"ro-\")\n",
    "\n",
    "plot_rate_vs_ls(df_rates, 306121, \"lumi\", \"DT1\", \"YB+1_S4\", 0, \"errorDT1\", \"Inst. Lumi. [E30 Hz/cm$^2$]\", \n",
    "                \"Rate [Hz]\", title, \"ro\")"
   ]
  },
  {
   "cell_type": "code",
   "execution_count": 313,
   "metadata": {},
   "outputs": [
    {
     "ename": "KeyboardInterrupt",
     "evalue": "",
     "output_type": "error",
     "traceback": [
      "\u001b[0;31m---------------------------------------------------------------------------\u001b[0m",
      "\u001b[0;31mKeyboardInterrupt\u001b[0m                         Traceback (most recent call last)",
      "\u001b[0;32m<ipython-input-313-99892ca28e2d>\u001b[0m in \u001b[0;36m<module>\u001b[0;34m()\u001b[0m\n\u001b[1;32m     16\u001b[0m         df_rates_new = df_rates_new.append({\"wheel\":row[\"wheel\"], \"sector\":row[\"sector\"], \n\u001b[1;32m     17\u001b[0m                                             \u001b[0;34m\"station\"\u001b[0m\u001b[0;34m:\u001b[0m\u001b[0mstation\u001b[0m\u001b[0;34m,\u001b[0m \u001b[0;34m\"time\"\u001b[0m\u001b[0;34m:\u001b[0m\u001b[0mrow\u001b[0m\u001b[0;34m[\u001b[0m\u001b[0;34m\"time\"\u001b[0m\u001b[0;34m]\u001b[0m\u001b[0;34m,\u001b[0m \u001b[0;34m\"content\"\u001b[0m\u001b[0;34m:\u001b[0m\u001b[0marray\u001b[0m\u001b[0;34m,\u001b[0m\u001b[0;34m\u001b[0m\u001b[0m\n\u001b[0;32m---> 18\u001b[0;31m                                             \"score\":row[\"score\"]}, ignore_index=True)\n\u001b[0m",
      "\u001b[0;32m/Users/cesarecalabria/Library/Python/2.7/lib/python/site-packages/pandas/core/frame.pyc\u001b[0m in \u001b[0;36mappend\u001b[0;34m(self, other, ignore_index, verify_integrity)\u001b[0m\n\u001b[1;32m   4533\u001b[0m             \u001b[0mother\u001b[0m \u001b[0;34m=\u001b[0m \u001b[0mother\u001b[0m\u001b[0;34m.\u001b[0m\u001b[0m_convert\u001b[0m\u001b[0;34m(\u001b[0m\u001b[0mdatetime\u001b[0m\u001b[0;34m=\u001b[0m\u001b[0mTrue\u001b[0m\u001b[0;34m,\u001b[0m \u001b[0mtimedelta\u001b[0m\u001b[0;34m=\u001b[0m\u001b[0mTrue\u001b[0m\u001b[0;34m)\u001b[0m\u001b[0;34m\u001b[0m\u001b[0m\n\u001b[1;32m   4534\u001b[0m             \u001b[0;32mif\u001b[0m \u001b[0;32mnot\u001b[0m \u001b[0mself\u001b[0m\u001b[0;34m.\u001b[0m\u001b[0mcolumns\u001b[0m\u001b[0;34m.\u001b[0m\u001b[0mequals\u001b[0m\u001b[0;34m(\u001b[0m\u001b[0mcombined_columns\u001b[0m\u001b[0;34m)\u001b[0m\u001b[0;34m:\u001b[0m\u001b[0;34m\u001b[0m\u001b[0m\n\u001b[0;32m-> 4535\u001b[0;31m                 \u001b[0mself\u001b[0m \u001b[0;34m=\u001b[0m \u001b[0mself\u001b[0m\u001b[0;34m.\u001b[0m\u001b[0mreindex\u001b[0m\u001b[0;34m(\u001b[0m\u001b[0mcolumns\u001b[0m\u001b[0;34m=\u001b[0m\u001b[0mcombined_columns\u001b[0m\u001b[0;34m)\u001b[0m\u001b[0;34m\u001b[0m\u001b[0m\n\u001b[0m\u001b[1;32m   4536\u001b[0m         \u001b[0;32melif\u001b[0m \u001b[0misinstance\u001b[0m\u001b[0;34m(\u001b[0m\u001b[0mother\u001b[0m\u001b[0;34m,\u001b[0m \u001b[0mlist\u001b[0m\u001b[0;34m)\u001b[0m \u001b[0;32mand\u001b[0m \u001b[0;32mnot\u001b[0m \u001b[0misinstance\u001b[0m\u001b[0;34m(\u001b[0m\u001b[0mother\u001b[0m\u001b[0;34m[\u001b[0m\u001b[0;36m0\u001b[0m\u001b[0;34m]\u001b[0m\u001b[0;34m,\u001b[0m \u001b[0mDataFrame\u001b[0m\u001b[0;34m)\u001b[0m\u001b[0;34m:\u001b[0m\u001b[0;34m\u001b[0m\u001b[0m\n\u001b[1;32m   4537\u001b[0m             \u001b[0mother\u001b[0m \u001b[0;34m=\u001b[0m \u001b[0mDataFrame\u001b[0m\u001b[0;34m(\u001b[0m\u001b[0mother\u001b[0m\u001b[0;34m)\u001b[0m\u001b[0;34m\u001b[0m\u001b[0m\n",
      "\u001b[0;32m/Users/cesarecalabria/Library/Python/2.7/lib/python/site-packages/pandas/core/frame.pyc\u001b[0m in \u001b[0;36mreindex\u001b[0;34m(self, index, columns, **kwargs)\u001b[0m\n\u001b[1;32m   2731\u001b[0m     \u001b[0;32mdef\u001b[0m \u001b[0mreindex\u001b[0m\u001b[0;34m(\u001b[0m\u001b[0mself\u001b[0m\u001b[0;34m,\u001b[0m \u001b[0mindex\u001b[0m\u001b[0;34m=\u001b[0m\u001b[0mNone\u001b[0m\u001b[0;34m,\u001b[0m \u001b[0mcolumns\u001b[0m\u001b[0;34m=\u001b[0m\u001b[0mNone\u001b[0m\u001b[0;34m,\u001b[0m \u001b[0;34m**\u001b[0m\u001b[0mkwargs\u001b[0m\u001b[0;34m)\u001b[0m\u001b[0;34m:\u001b[0m\u001b[0;34m\u001b[0m\u001b[0m\n\u001b[1;32m   2732\u001b[0m         return super(DataFrame, self).reindex(index=index, columns=columns,\n\u001b[0;32m-> 2733\u001b[0;31m                                               **kwargs)\n\u001b[0m\u001b[1;32m   2734\u001b[0m \u001b[0;34m\u001b[0m\u001b[0m\n\u001b[1;32m   2735\u001b[0m     \u001b[0;34m@\u001b[0m\u001b[0mAppender\u001b[0m\u001b[0;34m(\u001b[0m\u001b[0m_shared_docs\u001b[0m\u001b[0;34m[\u001b[0m\u001b[0;34m'reindex_axis'\u001b[0m\u001b[0;34m]\u001b[0m \u001b[0;34m%\u001b[0m \u001b[0m_shared_doc_kwargs\u001b[0m\u001b[0;34m)\u001b[0m\u001b[0;34m\u001b[0m\u001b[0m\n",
      "\u001b[0;32m/Users/cesarecalabria/Library/Python/2.7/lib/python/site-packages/pandas/core/generic.pyc\u001b[0m in \u001b[0;36mreindex\u001b[0;34m(self, *args, **kwargs)\u001b[0m\n\u001b[1;32m   2494\u001b[0m                             'argument \"{0}\"'.format(list(kwargs.keys())[0]))\n\u001b[1;32m   2495\u001b[0m \u001b[0;34m\u001b[0m\u001b[0m\n\u001b[0;32m-> 2496\u001b[0;31m         \u001b[0mself\u001b[0m\u001b[0;34m.\u001b[0m\u001b[0m_consolidate_inplace\u001b[0m\u001b[0;34m(\u001b[0m\u001b[0;34m)\u001b[0m\u001b[0;34m\u001b[0m\u001b[0m\n\u001b[0m\u001b[1;32m   2497\u001b[0m \u001b[0;34m\u001b[0m\u001b[0m\n\u001b[1;32m   2498\u001b[0m         \u001b[0;31m# if all axes that are requested to reindex are equal, then only copy\u001b[0m\u001b[0;34m\u001b[0m\u001b[0;34m\u001b[0m\u001b[0m\n",
      "\u001b[0;32m/Users/cesarecalabria/Library/Python/2.7/lib/python/site-packages/pandas/core/generic.pyc\u001b[0m in \u001b[0;36m_consolidate_inplace\u001b[0;34m(self)\u001b[0m\n\u001b[1;32m   3136\u001b[0m             \u001b[0mself\u001b[0m\u001b[0;34m.\u001b[0m\u001b[0m_data\u001b[0m \u001b[0;34m=\u001b[0m \u001b[0mself\u001b[0m\u001b[0;34m.\u001b[0m\u001b[0m_data\u001b[0m\u001b[0;34m.\u001b[0m\u001b[0mconsolidate\u001b[0m\u001b[0;34m(\u001b[0m\u001b[0;34m)\u001b[0m\u001b[0;34m\u001b[0m\u001b[0m\n\u001b[1;32m   3137\u001b[0m \u001b[0;34m\u001b[0m\u001b[0m\n\u001b[0;32m-> 3138\u001b[0;31m         \u001b[0mself\u001b[0m\u001b[0;34m.\u001b[0m\u001b[0m_protect_consolidate\u001b[0m\u001b[0;34m(\u001b[0m\u001b[0mf\u001b[0m\u001b[0;34m)\u001b[0m\u001b[0;34m\u001b[0m\u001b[0m\n\u001b[0m\u001b[1;32m   3139\u001b[0m \u001b[0;34m\u001b[0m\u001b[0m\n\u001b[1;32m   3140\u001b[0m     \u001b[0;32mdef\u001b[0m \u001b[0m_consolidate\u001b[0m\u001b[0;34m(\u001b[0m\u001b[0mself\u001b[0m\u001b[0;34m,\u001b[0m \u001b[0minplace\u001b[0m\u001b[0;34m=\u001b[0m\u001b[0mFalse\u001b[0m\u001b[0;34m)\u001b[0m\u001b[0;34m:\u001b[0m\u001b[0;34m\u001b[0m\u001b[0m\n",
      "\u001b[0;32m/Users/cesarecalabria/Library/Python/2.7/lib/python/site-packages/pandas/core/generic.pyc\u001b[0m in \u001b[0;36m_protect_consolidate\u001b[0;34m(self, f)\u001b[0m\n\u001b[1;32m   3125\u001b[0m         \"\"\"\n\u001b[1;32m   3126\u001b[0m         \u001b[0mblocks_before\u001b[0m \u001b[0;34m=\u001b[0m \u001b[0mlen\u001b[0m\u001b[0;34m(\u001b[0m\u001b[0mself\u001b[0m\u001b[0;34m.\u001b[0m\u001b[0m_data\u001b[0m\u001b[0;34m.\u001b[0m\u001b[0mblocks\u001b[0m\u001b[0;34m)\u001b[0m\u001b[0;34m\u001b[0m\u001b[0m\n\u001b[0;32m-> 3127\u001b[0;31m         \u001b[0mresult\u001b[0m \u001b[0;34m=\u001b[0m \u001b[0mf\u001b[0m\u001b[0;34m(\u001b[0m\u001b[0;34m)\u001b[0m\u001b[0;34m\u001b[0m\u001b[0m\n\u001b[0m\u001b[1;32m   3128\u001b[0m         \u001b[0;32mif\u001b[0m \u001b[0mlen\u001b[0m\u001b[0;34m(\u001b[0m\u001b[0mself\u001b[0m\u001b[0;34m.\u001b[0m\u001b[0m_data\u001b[0m\u001b[0;34m.\u001b[0m\u001b[0mblocks\u001b[0m\u001b[0;34m)\u001b[0m \u001b[0;34m!=\u001b[0m \u001b[0mblocks_before\u001b[0m\u001b[0;34m:\u001b[0m\u001b[0;34m\u001b[0m\u001b[0m\n\u001b[1;32m   3129\u001b[0m             \u001b[0mself\u001b[0m\u001b[0;34m.\u001b[0m\u001b[0m_clear_item_cache\u001b[0m\u001b[0;34m(\u001b[0m\u001b[0;34m)\u001b[0m\u001b[0;34m\u001b[0m\u001b[0m\n",
      "\u001b[0;32m/Users/cesarecalabria/Library/Python/2.7/lib/python/site-packages/pandas/core/generic.pyc\u001b[0m in \u001b[0;36mf\u001b[0;34m()\u001b[0m\n\u001b[1;32m   3134\u001b[0m \u001b[0;34m\u001b[0m\u001b[0m\n\u001b[1;32m   3135\u001b[0m         \u001b[0;32mdef\u001b[0m \u001b[0mf\u001b[0m\u001b[0;34m(\u001b[0m\u001b[0;34m)\u001b[0m\u001b[0;34m:\u001b[0m\u001b[0;34m\u001b[0m\u001b[0m\n\u001b[0;32m-> 3136\u001b[0;31m             \u001b[0mself\u001b[0m\u001b[0;34m.\u001b[0m\u001b[0m_data\u001b[0m \u001b[0;34m=\u001b[0m \u001b[0mself\u001b[0m\u001b[0;34m.\u001b[0m\u001b[0m_data\u001b[0m\u001b[0;34m.\u001b[0m\u001b[0mconsolidate\u001b[0m\u001b[0;34m(\u001b[0m\u001b[0;34m)\u001b[0m\u001b[0;34m\u001b[0m\u001b[0m\n\u001b[0m\u001b[1;32m   3137\u001b[0m \u001b[0;34m\u001b[0m\u001b[0m\n\u001b[1;32m   3138\u001b[0m         \u001b[0mself\u001b[0m\u001b[0;34m.\u001b[0m\u001b[0m_protect_consolidate\u001b[0m\u001b[0;34m(\u001b[0m\u001b[0mf\u001b[0m\u001b[0;34m)\u001b[0m\u001b[0;34m\u001b[0m\u001b[0m\n",
      "\u001b[0;32m/Users/cesarecalabria/Library/Python/2.7/lib/python/site-packages/pandas/core/internals.pyc\u001b[0m in \u001b[0;36mconsolidate\u001b[0;34m(self)\u001b[0m\n\u001b[1;32m   3571\u001b[0m         \u001b[0mbm\u001b[0m \u001b[0;34m=\u001b[0m \u001b[0mself\u001b[0m\u001b[0;34m.\u001b[0m\u001b[0m__class__\u001b[0m\u001b[0;34m(\u001b[0m\u001b[0mself\u001b[0m\u001b[0;34m.\u001b[0m\u001b[0mblocks\u001b[0m\u001b[0;34m,\u001b[0m \u001b[0mself\u001b[0m\u001b[0;34m.\u001b[0m\u001b[0maxes\u001b[0m\u001b[0;34m)\u001b[0m\u001b[0;34m\u001b[0m\u001b[0m\n\u001b[1;32m   3572\u001b[0m         \u001b[0mbm\u001b[0m\u001b[0;34m.\u001b[0m\u001b[0m_is_consolidated\u001b[0m \u001b[0;34m=\u001b[0m \u001b[0mFalse\u001b[0m\u001b[0;34m\u001b[0m\u001b[0m\n\u001b[0;32m-> 3573\u001b[0;31m         \u001b[0mbm\u001b[0m\u001b[0;34m.\u001b[0m\u001b[0m_consolidate_inplace\u001b[0m\u001b[0;34m(\u001b[0m\u001b[0;34m)\u001b[0m\u001b[0;34m\u001b[0m\u001b[0m\n\u001b[0m\u001b[1;32m   3574\u001b[0m         \u001b[0;32mreturn\u001b[0m \u001b[0mbm\u001b[0m\u001b[0;34m\u001b[0m\u001b[0m\n\u001b[1;32m   3575\u001b[0m \u001b[0;34m\u001b[0m\u001b[0m\n",
      "\u001b[0;32m/Users/cesarecalabria/Library/Python/2.7/lib/python/site-packages/pandas/core/internals.pyc\u001b[0m in \u001b[0;36m_consolidate_inplace\u001b[0;34m(self)\u001b[0m\n\u001b[1;32m   3576\u001b[0m     \u001b[0;32mdef\u001b[0m \u001b[0m_consolidate_inplace\u001b[0m\u001b[0;34m(\u001b[0m\u001b[0mself\u001b[0m\u001b[0;34m)\u001b[0m\u001b[0;34m:\u001b[0m\u001b[0;34m\u001b[0m\u001b[0m\n\u001b[1;32m   3577\u001b[0m         \u001b[0;32mif\u001b[0m \u001b[0;32mnot\u001b[0m \u001b[0mself\u001b[0m\u001b[0;34m.\u001b[0m\u001b[0mis_consolidated\u001b[0m\u001b[0;34m(\u001b[0m\u001b[0;34m)\u001b[0m\u001b[0;34m:\u001b[0m\u001b[0;34m\u001b[0m\u001b[0m\n\u001b[0;32m-> 3578\u001b[0;31m             \u001b[0mself\u001b[0m\u001b[0;34m.\u001b[0m\u001b[0mblocks\u001b[0m \u001b[0;34m=\u001b[0m \u001b[0mtuple\u001b[0m\u001b[0;34m(\u001b[0m\u001b[0m_consolidate\u001b[0m\u001b[0;34m(\u001b[0m\u001b[0mself\u001b[0m\u001b[0;34m.\u001b[0m\u001b[0mblocks\u001b[0m\u001b[0;34m)\u001b[0m\u001b[0;34m)\u001b[0m\u001b[0;34m\u001b[0m\u001b[0m\n\u001b[0m\u001b[1;32m   3579\u001b[0m             \u001b[0mself\u001b[0m\u001b[0;34m.\u001b[0m\u001b[0m_is_consolidated\u001b[0m \u001b[0;34m=\u001b[0m \u001b[0mTrue\u001b[0m\u001b[0;34m\u001b[0m\u001b[0m\n\u001b[1;32m   3580\u001b[0m             \u001b[0mself\u001b[0m\u001b[0;34m.\u001b[0m\u001b[0m_known_consolidated\u001b[0m \u001b[0;34m=\u001b[0m \u001b[0mTrue\u001b[0m\u001b[0;34m\u001b[0m\u001b[0m\n",
      "\u001b[0;32m/Users/cesarecalabria/Library/Python/2.7/lib/python/site-packages/pandas/core/internals.pyc\u001b[0m in \u001b[0;36m_consolidate\u001b[0;34m(blocks)\u001b[0m\n\u001b[1;32m   4523\u001b[0m     \u001b[0;32mfor\u001b[0m \u001b[0;34m(\u001b[0m\u001b[0m_can_consolidate\u001b[0m\u001b[0;34m,\u001b[0m \u001b[0mdtype\u001b[0m\u001b[0;34m)\u001b[0m\u001b[0;34m,\u001b[0m \u001b[0mgroup_blocks\u001b[0m \u001b[0;32min\u001b[0m \u001b[0mgrouper\u001b[0m\u001b[0;34m:\u001b[0m\u001b[0;34m\u001b[0m\u001b[0m\n\u001b[1;32m   4524\u001b[0m         merged_blocks = _merge_blocks(list(group_blocks), dtype=dtype,\n\u001b[0;32m-> 4525\u001b[0;31m                                       _can_consolidate=_can_consolidate)\n\u001b[0m\u001b[1;32m   4526\u001b[0m         \u001b[0mnew_blocks\u001b[0m \u001b[0;34m=\u001b[0m \u001b[0m_extend_blocks\u001b[0m\u001b[0;34m(\u001b[0m\u001b[0mmerged_blocks\u001b[0m\u001b[0;34m,\u001b[0m \u001b[0mnew_blocks\u001b[0m\u001b[0;34m)\u001b[0m\u001b[0;34m\u001b[0m\u001b[0m\n\u001b[1;32m   4527\u001b[0m     \u001b[0;32mreturn\u001b[0m \u001b[0mnew_blocks\u001b[0m\u001b[0;34m\u001b[0m\u001b[0m\n",
      "\u001b[0;32m/Users/cesarecalabria/Library/Python/2.7/lib/python/site-packages/pandas/core/internals.pyc\u001b[0m in \u001b[0;36m_merge_blocks\u001b[0;34m(blocks, dtype, _can_consolidate)\u001b[0m\n\u001b[1;32m   4547\u001b[0m         \u001b[0margsort\u001b[0m \u001b[0;34m=\u001b[0m \u001b[0mnp\u001b[0m\u001b[0;34m.\u001b[0m\u001b[0margsort\u001b[0m\u001b[0;34m(\u001b[0m\u001b[0mnew_mgr_locs\u001b[0m\u001b[0;34m)\u001b[0m\u001b[0;34m\u001b[0m\u001b[0m\n\u001b[1;32m   4548\u001b[0m         \u001b[0mnew_values\u001b[0m \u001b[0;34m=\u001b[0m \u001b[0mnew_values\u001b[0m\u001b[0;34m[\u001b[0m\u001b[0margsort\u001b[0m\u001b[0;34m]\u001b[0m\u001b[0;34m\u001b[0m\u001b[0m\n\u001b[0;32m-> 4549\u001b[0;31m         \u001b[0mnew_mgr_locs\u001b[0m \u001b[0;34m=\u001b[0m \u001b[0mnew_mgr_locs\u001b[0m\u001b[0;34m[\u001b[0m\u001b[0margsort\u001b[0m\u001b[0;34m]\u001b[0m\u001b[0;34m\u001b[0m\u001b[0m\n\u001b[0m\u001b[1;32m   4550\u001b[0m \u001b[0;34m\u001b[0m\u001b[0m\n\u001b[1;32m   4551\u001b[0m         \u001b[0;32mreturn\u001b[0m \u001b[0mmake_block\u001b[0m\u001b[0;34m(\u001b[0m\u001b[0mnew_values\u001b[0m\u001b[0;34m,\u001b[0m \u001b[0mfastpath\u001b[0m\u001b[0;34m=\u001b[0m\u001b[0mTrue\u001b[0m\u001b[0;34m,\u001b[0m \u001b[0mplacement\u001b[0m\u001b[0;34m=\u001b[0m\u001b[0mnew_mgr_locs\u001b[0m\u001b[0;34m)\u001b[0m\u001b[0;34m\u001b[0m\u001b[0m\n",
      "\u001b[0;31mKeyboardInterrupt\u001b[0m: "
     ]
    }
   ],
   "source": [
    "df_rates_new = pd.DataFrame(columns=[\"wheel\", \"sector\", \"station\", \"time\", \"content\", \"score\"])\n",
    "for index, row in df_rates.iterrows():\n",
    "    for j in algos:\n",
    "        #print j\n",
    "        system = 0\n",
    "        station = 0\n",
    "        if (j.find(\"RPC\") != -1):\n",
    "            system = 1\n",
    "        else:\n",
    "            system = 2\n",
    "        num = j.replace(\"RPC\", \"\")\n",
    "        num = num.replace(\"DT\", \"\")\n",
    "        station = int(num)\n",
    "        array = np.array([system, row[\"wheel\"], row[\"sector\"], station, row[j], row[\"error\"+j], row[\"lumi\"]])\n",
    "        #print array\n",
    "        df_rates_new = df_rates_new.append({\"wheel\":row[\"wheel\"], \"sector\":row[\"sector\"], \n",
    "                                            \"station\":station, \"time\":row[\"time\"], \"content\":array, \n",
    "                                            \"score\":row[\"score\"]}, ignore_index=True)"
   ]
  },
  {
   "cell_type": "code",
   "execution_count": 363,
   "metadata": {},
   "outputs": [
    {
     "name": "stdout",
     "output_type": "stream",
     "text": [
      "55845\n"
     ]
    }
   ],
   "source": [
    "print len(df_rates_new)\n",
    "#print len(df_rates_new)"
   ]
  },
  {
   "cell_type": "code",
   "execution_count": 298,
   "metadata": {},
   "outputs": [
    {
     "name": "stdout",
     "output_type": "stream",
     "text": [
      "    wheel sector station                       time  \\\n",
      "60      1      1       1 2017-11-03 13:10:13.317721   \n",
      "65      1      2       1 2017-11-03 13:10:13.317721   \n",
      "70      1      3       1 2017-11-03 13:10:13.317721   \n",
      "75      1      4       1 2017-11-03 13:10:13.317721   \n",
      "80      1      5       1 2017-11-03 13:10:13.317721   \n",
      "85      1      6       1 2017-11-03 13:10:13.317721   \n",
      "90      1      7       1 2017-11-03 13:10:13.317721   \n",
      "95      1      8       1 2017-11-03 13:10:13.317721   \n",
      "100     1      9       1 2017-11-03 13:10:13.317721   \n",
      "105     1     10       1 2017-11-03 13:10:13.317721   \n",
      "110     1     11       1 2017-11-03 13:10:13.317721   \n",
      "115     1     12       1 2017-11-03 13:10:13.317721   \n",
      "\n",
      "                                             content score  \n",
      "60    [2.0, 1.0, 1.0, 1.0, 30781.0, 48.4, 17527.957]    -1  \n",
      "65    [2.0, 1.0, 2.0, 1.0, 32139.3, 74.4, 17527.957]    -1  \n",
      "70    [2.0, 1.0, 3.0, 1.0, 33053.5, 85.3, 17527.957]    -1  \n",
      "75    [2.0, 1.0, 4.0, 1.0, 27856.3, 31.9, 17527.957]    -1  \n",
      "80    [2.0, 1.0, 5.0, 1.0, 32602.8, 48.0, 17527.957]    -1  \n",
      "85    [2.0, 1.0, 6.0, 1.0, 31620.9, 22.5, 17527.957]    -1  \n",
      "90    [2.0, 1.0, 7.0, 1.0, 30282.8, 55.3, 17527.957]    -1  \n",
      "95    [2.0, 1.0, 8.0, 1.0, 32503.9, 54.6, 17527.957]    -1  \n",
      "100   [2.0, 1.0, 9.0, 1.0, 32657.2, 39.3, 17527.957]    -1  \n",
      "105  [2.0, 1.0, 10.0, 1.0, 31928.0, 36.8, 17527.957]    -1  \n",
      "110  [2.0, 1.0, 11.0, 1.0, 32571.1, 59.6, 17527.957]    -1  \n",
      "115  [2.0, 1.0, 12.0, 1.0, 32154.1, 32.7, 17527.957]    -1  \n"
     ]
    }
   ],
   "source": [
    "#print df_rates_new[df_rates_new[\"time\"] == \"2017-11-03 13:10:13.317721\"]\n",
    "rule = (df_rates_new[\"wheel\"] == 1) & (df_rates_new[\"station\"] == 1) & (df_rates_new[\"time\"] == \"2017-11-03 13:10:13.317721\")\n",
    "print df_rates_new[rule]"
   ]
  },
  {
   "cell_type": "markdown",
   "metadata": {},
   "source": [
    "Creating train and test samples:"
   ]
  },
  {
   "cell_type": "code",
   "execution_count": 299,
   "metadata": {},
   "outputs": [],
   "source": [
    "normalies = df_rates_new.copy()\n",
    "anomalies = df_rates_new.copy()"
   ]
  },
  {
   "cell_type": "code",
   "execution_count": 300,
   "metadata": {},
   "outputs": [
    {
     "name": "stdout",
     "output_type": "stream",
     "text": [
      "70200 70200\n"
     ]
    }
   ],
   "source": [
    "print len(normalies), len(anomalies)"
   ]
  },
  {
   "cell_type": "code",
   "execution_count": 302,
   "metadata": {},
   "outputs": [
    {
     "name": "stdout",
     "output_type": "stream",
     "text": [
      "    wheel sector station                       time  \\\n",
      "105     1     10       1 2017-11-03 13:10:13.317721   \n",
      "106     1     10       2 2017-11-03 13:10:13.317721   \n",
      "107     1     10       3 2017-11-03 13:10:13.317721   \n",
      "108     1     10       4 2017-11-03 13:10:13.317721   \n",
      "109     1     10       5 2017-11-03 13:10:13.317721   \n",
      "\n",
      "                                             content score  \n",
      "105  [2.0, 1.0, 10.0, 1.0, 31928.0, 36.8, 17527.957]    -1  \n",
      "106  [2.0, 1.0, 10.0, 2.0, 12472.5, 19.9, 17527.957]    -1  \n",
      "107    [2.0, 1.0, 10.0, 3.0, 4639.8, 9.9, 17527.957]    -1  \n",
      "108    [2.0, 1.0, 10.0, 4.0, 1485.9, 3.4, 17527.957]    -1  \n",
      "109    [2.0, 1.0, 10.0, 5.0, 1477.8, 3.8, 17527.957]    -1  \n",
      "   wheel sector station                       time  \\\n",
      "75     1      4       1 2017-11-03 13:10:13.317721   \n",
      "76     1      4       2 2017-11-03 13:10:13.317721   \n",
      "77     1      4       3 2017-11-03 13:10:13.317721   \n",
      "78     1      4       4 2017-11-03 13:10:13.317721   \n",
      "79     1      4       5 2017-11-03 13:10:13.317721   \n",
      "\n",
      "                                           content score  \n",
      "75  [2.0, 1.0, 4.0, 1.0, 27856.3, 31.9, 17527.957]    -1  \n",
      "76  [2.0, 1.0, 4.0, 2.0, 10977.3, 13.1, 17527.957]    -1  \n",
      "77    [2.0, 1.0, 4.0, 3.0, 3185.4, 5.9, 17527.957]    -1  \n",
      "78   [2.0, 1.0, 4.0, 4.0, 9477.1, 18.3, 17527.957]    -1  \n",
      "79   [2.0, 1.0, 4.0, 5.0, 9742.2, 27.9, 17527.957]    -1  \n"
     ]
    }
   ],
   "source": [
    "rule = (normalies[\"wheel\"] == 1) & (normalies[\"sector\"] == 10) & (normalies[\"time\"] == \"2017-11-03 13:10:13.317721\")\n",
    "print normalies[rule]\n",
    "\n",
    "rule = (normalies[\"wheel\"] == 1) & (normalies[\"sector\"] == 4) & (normalies[\"time\"] == \"2017-11-03 13:10:13.317721\")\n",
    "print normalies[rule]"
   ]
  },
  {
   "cell_type": "code",
   "execution_count": 303,
   "metadata": {},
   "outputs": [],
   "source": [
    "def assignScore(df, score):\n",
    "    temp = df.copy()\n",
    "    rule = (temp[\"wheel\"] == 1) & (temp[\"sector\"] == 4) & (temp[\"station\"] == 1)\n",
    "    indexes = temp[rule].index\n",
    "    #print indexes\n",
    "    for i in indexes:\n",
    "        temp.loc[i, \"score\"] = score\n",
    "    return temp\n",
    "\n",
    "temp = assignScore(anomalies, 1)\n",
    "anomalies = temp"
   ]
  },
  {
   "cell_type": "code",
   "execution_count": 364,
   "metadata": {},
   "outputs": [],
   "source": [
    "#rule = (anomalies[\"wheel\"] == 1) & (anomalies[\"sector\"] == 4) & (anomalies[\"station\"] == 1)\n",
    "#print anomalies[rule][\"score\"]"
   ]
  },
  {
   "cell_type": "code",
   "execution_count": 311,
   "metadata": {},
   "outputs": [
    {
     "data": {
      "text/html": [
       "<div>\n",
       "<style>\n",
       "    .dataframe thead tr:only-child th {\n",
       "        text-align: right;\n",
       "    }\n",
       "\n",
       "    .dataframe thead th {\n",
       "        text-align: left;\n",
       "    }\n",
       "\n",
       "    .dataframe tbody tr th {\n",
       "        vertical-align: top;\n",
       "    }\n",
       "</style>\n",
       "<table border=\"1\" class=\"dataframe\">\n",
       "  <thead>\n",
       "    <tr style=\"text-align: right;\">\n",
       "      <th></th>\n",
       "      <th>wheel</th>\n",
       "      <th>sector</th>\n",
       "      <th>station</th>\n",
       "      <th>time</th>\n",
       "      <th>content</th>\n",
       "      <th>score</th>\n",
       "    </tr>\n",
       "  </thead>\n",
       "  <tbody>\n",
       "    <tr>\n",
       "      <th>0</th>\n",
       "      <td>0</td>\n",
       "      <td>1</td>\n",
       "      <td>1</td>\n",
       "      <td>2017-11-03 13:10:13.317721</td>\n",
       "      <td>[2.0, 0.0, 1.0, 1.0, 21874.2, 71.2, 17527.957]</td>\n",
       "      <td>-1</td>\n",
       "    </tr>\n",
       "    <tr>\n",
       "      <th>1</th>\n",
       "      <td>0</td>\n",
       "      <td>1</td>\n",
       "      <td>2</td>\n",
       "      <td>2017-11-03 13:10:13.317721</td>\n",
       "      <td>[2.0, 0.0, 1.0, 2.0, 10558.2, 37.0, 17527.957]</td>\n",
       "      <td>-1</td>\n",
       "    </tr>\n",
       "    <tr>\n",
       "      <th>2</th>\n",
       "      <td>0</td>\n",
       "      <td>1</td>\n",
       "      <td>3</td>\n",
       "      <td>2017-11-03 13:10:13.317721</td>\n",
       "      <td>[2.0, 0.0, 1.0, 3.0, 4017.7, 13.8, 17527.957]</td>\n",
       "      <td>-1</td>\n",
       "    </tr>\n",
       "    <tr>\n",
       "      <th>3</th>\n",
       "      <td>0</td>\n",
       "      <td>1</td>\n",
       "      <td>4</td>\n",
       "      <td>2017-11-03 13:10:13.317721</td>\n",
       "      <td>[2.0, 0.0, 1.0, 4.0, 5525.2, 17.4, 17527.957]</td>\n",
       "      <td>-1</td>\n",
       "    </tr>\n",
       "    <tr>\n",
       "      <th>4</th>\n",
       "      <td>0</td>\n",
       "      <td>1</td>\n",
       "      <td>5</td>\n",
       "      <td>2017-11-03 13:10:13.317721</td>\n",
       "      <td>[2.0, 0.0, 1.0, 5.0, 39999999.0, 0.0, 17527.957]</td>\n",
       "      <td>-1</td>\n",
       "    </tr>\n",
       "    <tr>\n",
       "      <th>5</th>\n",
       "      <td>0</td>\n",
       "      <td>2</td>\n",
       "      <td>1</td>\n",
       "      <td>2017-11-03 13:10:13.317721</td>\n",
       "      <td>[2.0, 0.0, 2.0, 1.0, 23102.7, 57.1, 17527.957]</td>\n",
       "      <td>-1</td>\n",
       "    </tr>\n",
       "    <tr>\n",
       "      <th>6</th>\n",
       "      <td>0</td>\n",
       "      <td>2</td>\n",
       "      <td>2</td>\n",
       "      <td>2017-11-03 13:10:13.317721</td>\n",
       "      <td>[2.0, 0.0, 2.0, 2.0, 10578.9, 31.1, 17527.957]</td>\n",
       "      <td>-1</td>\n",
       "    </tr>\n",
       "    <tr>\n",
       "      <th>7</th>\n",
       "      <td>0</td>\n",
       "      <td>2</td>\n",
       "      <td>3</td>\n",
       "      <td>2017-11-03 13:10:13.317721</td>\n",
       "      <td>[2.0, 0.0, 2.0, 3.0, 4139.2, 11.3, 17527.957]</td>\n",
       "      <td>-1</td>\n",
       "    </tr>\n",
       "    <tr>\n",
       "      <th>8</th>\n",
       "      <td>0</td>\n",
       "      <td>2</td>\n",
       "      <td>4</td>\n",
       "      <td>2017-11-03 13:10:13.317721</td>\n",
       "      <td>[2.0, 0.0, 2.0, 4.0, 7581.4, 18.7, 17527.957]</td>\n",
       "      <td>-1</td>\n",
       "    </tr>\n",
       "    <tr>\n",
       "      <th>9</th>\n",
       "      <td>0</td>\n",
       "      <td>2</td>\n",
       "      <td>5</td>\n",
       "      <td>2017-11-03 13:10:13.317721</td>\n",
       "      <td>[2.0, 0.0, 2.0, 5.0, 39810549.2, 772.5, 17527....</td>\n",
       "      <td>-1</td>\n",
       "    </tr>\n",
       "    <tr>\n",
       "      <th>10</th>\n",
       "      <td>0</td>\n",
       "      <td>3</td>\n",
       "      <td>1</td>\n",
       "      <td>2017-11-03 13:10:13.317721</td>\n",
       "      <td>[2.0, 0.0, 3.0, 1.0, 23485.3, 30.1, 17527.957]</td>\n",
       "      <td>-1</td>\n",
       "    </tr>\n",
       "    <tr>\n",
       "      <th>11</th>\n",
       "      <td>0</td>\n",
       "      <td>3</td>\n",
       "      <td>2</td>\n",
       "      <td>2017-11-03 13:10:13.317721</td>\n",
       "      <td>[2.0, 0.0, 3.0, 2.0, 10897.4, 15.3, 17527.957]</td>\n",
       "      <td>-1</td>\n",
       "    </tr>\n",
       "    <tr>\n",
       "      <th>12</th>\n",
       "      <td>0</td>\n",
       "      <td>3</td>\n",
       "      <td>3</td>\n",
       "      <td>2017-11-03 13:10:13.317721</td>\n",
       "      <td>[2.0, 0.0, 3.0, 3.0, 4235.3, 9.9, 17527.957]</td>\n",
       "      <td>-1</td>\n",
       "    </tr>\n",
       "    <tr>\n",
       "      <th>13</th>\n",
       "      <td>0</td>\n",
       "      <td>3</td>\n",
       "      <td>4</td>\n",
       "      <td>2017-11-03 13:10:13.317721</td>\n",
       "      <td>[2.0, 0.0, 3.0, 4.0, 11714.9, 21.9, 17527.957]</td>\n",
       "      <td>-1</td>\n",
       "    </tr>\n",
       "    <tr>\n",
       "      <th>14</th>\n",
       "      <td>0</td>\n",
       "      <td>3</td>\n",
       "      <td>5</td>\n",
       "      <td>2017-11-03 13:10:13.317721</td>\n",
       "      <td>[2.0, 0.0, 3.0, 5.0, 39999999.0, 0.0, 17527.957]</td>\n",
       "      <td>-1</td>\n",
       "    </tr>\n",
       "    <tr>\n",
       "      <th>15</th>\n",
       "      <td>0</td>\n",
       "      <td>4</td>\n",
       "      <td>1</td>\n",
       "      <td>2017-11-03 13:10:13.317721</td>\n",
       "      <td>[2.0, 0.0, 4.0, 1.0, 23080.6, 87.3, 17527.957]</td>\n",
       "      <td>-1</td>\n",
       "    </tr>\n",
       "    <tr>\n",
       "      <th>16</th>\n",
       "      <td>0</td>\n",
       "      <td>4</td>\n",
       "      <td>2</td>\n",
       "      <td>2017-11-03 13:10:13.317721</td>\n",
       "      <td>[2.0, 0.0, 4.0, 2.0, 10721.4, 41.5, 17527.957]</td>\n",
       "      <td>-1</td>\n",
       "    </tr>\n",
       "    <tr>\n",
       "      <th>17</th>\n",
       "      <td>0</td>\n",
       "      <td>4</td>\n",
       "      <td>3</td>\n",
       "      <td>2017-11-03 13:10:13.317721</td>\n",
       "      <td>[2.0, 0.0, 4.0, 3.0, 4262.9, 15.3, 17527.957]</td>\n",
       "      <td>-1</td>\n",
       "    </tr>\n",
       "    <tr>\n",
       "      <th>18</th>\n",
       "      <td>0</td>\n",
       "      <td>4</td>\n",
       "      <td>4</td>\n",
       "      <td>2017-11-03 13:10:13.317721</td>\n",
       "      <td>[2.0, 0.0, 4.0, 4.0, 10447.3, 41.3, 17527.957]</td>\n",
       "      <td>-1</td>\n",
       "    </tr>\n",
       "    <tr>\n",
       "      <th>19</th>\n",
       "      <td>0</td>\n",
       "      <td>4</td>\n",
       "      <td>5</td>\n",
       "      <td>2017-11-03 13:10:13.317721</td>\n",
       "      <td>[2.0, 0.0, 4.0, 5.0, 11015.9, 42.9, 17527.957]</td>\n",
       "      <td>-1</td>\n",
       "    </tr>\n",
       "    <tr>\n",
       "      <th>20</th>\n",
       "      <td>0</td>\n",
       "      <td>5</td>\n",
       "      <td>1</td>\n",
       "      <td>2017-11-03 13:10:13.317721</td>\n",
       "      <td>[2.0, 0.0, 5.0, 1.0, 22667.6, 73.0, 17527.957]</td>\n",
       "      <td>-1</td>\n",
       "    </tr>\n",
       "    <tr>\n",
       "      <th>21</th>\n",
       "      <td>0</td>\n",
       "      <td>5</td>\n",
       "      <td>2</td>\n",
       "      <td>2017-11-03 13:10:13.317721</td>\n",
       "      <td>[2.0, 0.0, 5.0, 2.0, 10597.7, 37.2, 17527.957]</td>\n",
       "      <td>-1</td>\n",
       "    </tr>\n",
       "    <tr>\n",
       "      <th>22</th>\n",
       "      <td>0</td>\n",
       "      <td>5</td>\n",
       "      <td>3</td>\n",
       "      <td>2017-11-03 13:10:13.317721</td>\n",
       "      <td>[2.0, 0.0, 5.0, 3.0, 4140.7, 14.3, 17527.957]</td>\n",
       "      <td>-1</td>\n",
       "    </tr>\n",
       "    <tr>\n",
       "      <th>23</th>\n",
       "      <td>0</td>\n",
       "      <td>5</td>\n",
       "      <td>4</td>\n",
       "      <td>2017-11-03 13:10:13.317721</td>\n",
       "      <td>[2.0, 0.0, 5.0, 4.0, 12520.5, 39.2, 17527.957]</td>\n",
       "      <td>-1</td>\n",
       "    </tr>\n",
       "    <tr>\n",
       "      <th>24</th>\n",
       "      <td>0</td>\n",
       "      <td>5</td>\n",
       "      <td>5</td>\n",
       "      <td>2017-11-03 13:10:13.317721</td>\n",
       "      <td>[2.0, 0.0, 5.0, 5.0, 39999999.0, 0.0, 17527.957]</td>\n",
       "      <td>-1</td>\n",
       "    </tr>\n",
       "    <tr>\n",
       "      <th>25</th>\n",
       "      <td>0</td>\n",
       "      <td>6</td>\n",
       "      <td>1</td>\n",
       "      <td>2017-11-03 13:10:13.317721</td>\n",
       "      <td>[2.0, 0.0, 6.0, 1.0, 22653.5, 38.6, 17527.957]</td>\n",
       "      <td>-1</td>\n",
       "    </tr>\n",
       "    <tr>\n",
       "      <th>26</th>\n",
       "      <td>0</td>\n",
       "      <td>6</td>\n",
       "      <td>2</td>\n",
       "      <td>2017-11-03 13:10:13.317721</td>\n",
       "      <td>[2.0, 0.0, 6.0, 2.0, 10709.5, 22.0, 17527.957]</td>\n",
       "      <td>-1</td>\n",
       "    </tr>\n",
       "    <tr>\n",
       "      <th>27</th>\n",
       "      <td>0</td>\n",
       "      <td>6</td>\n",
       "      <td>3</td>\n",
       "      <td>2017-11-03 13:10:13.317721</td>\n",
       "      <td>[2.0, 0.0, 6.0, 3.0, 4102.4, 7.0, 17527.957]</td>\n",
       "      <td>-1</td>\n",
       "    </tr>\n",
       "    <tr>\n",
       "      <th>28</th>\n",
       "      <td>0</td>\n",
       "      <td>6</td>\n",
       "      <td>4</td>\n",
       "      <td>2017-11-03 13:10:13.317721</td>\n",
       "      <td>[2.0, 0.0, 6.0, 4.0, 8009.1, 13.9, 17527.957]</td>\n",
       "      <td>-1</td>\n",
       "    </tr>\n",
       "    <tr>\n",
       "      <th>29</th>\n",
       "      <td>0</td>\n",
       "      <td>6</td>\n",
       "      <td>5</td>\n",
       "      <td>2017-11-03 13:10:13.317721</td>\n",
       "      <td>[2.0, 0.0, 6.0, 5.0, 39999999.0, 0.0, 17527.957]</td>\n",
       "      <td>-1</td>\n",
       "    </tr>\n",
       "    <tr>\n",
       "      <th>...</th>\n",
       "      <td>...</td>\n",
       "      <td>...</td>\n",
       "      <td>...</td>\n",
       "      <td>...</td>\n",
       "      <td>...</td>\n",
       "      <td>...</td>\n",
       "    </tr>\n",
       "    <tr>\n",
       "      <th>70170</th>\n",
       "      <td>-2</td>\n",
       "      <td>7</td>\n",
       "      <td>1</td>\n",
       "      <td>2017-11-03 14:42:15.107974</td>\n",
       "      <td>[2.0, -2.0, 7.0, 1.0, 73755.4, 72.1, 14958.889]</td>\n",
       "      <td>-1</td>\n",
       "    </tr>\n",
       "    <tr>\n",
       "      <th>70171</th>\n",
       "      <td>-2</td>\n",
       "      <td>7</td>\n",
       "      <td>2</td>\n",
       "      <td>2017-11-03 14:42:15.107974</td>\n",
       "      <td>[2.0, -2.0, 7.0, 2.0, 13679.7, 20.2, 14958.889]</td>\n",
       "      <td>-1</td>\n",
       "    </tr>\n",
       "    <tr>\n",
       "      <th>70172</th>\n",
       "      <td>-2</td>\n",
       "      <td>7</td>\n",
       "      <td>3</td>\n",
       "      <td>2017-11-03 14:42:15.107974</td>\n",
       "      <td>[2.0, -2.0, 7.0, 3.0, 3312.6, 10.6, 14958.889]</td>\n",
       "      <td>-1</td>\n",
       "    </tr>\n",
       "    <tr>\n",
       "      <th>70173</th>\n",
       "      <td>-2</td>\n",
       "      <td>7</td>\n",
       "      <td>4</td>\n",
       "      <td>2017-11-03 14:42:15.107974</td>\n",
       "      <td>[2.0, -2.0, 7.0, 4.0, 7258.4, 16.7, 14958.889]</td>\n",
       "      <td>-1</td>\n",
       "    </tr>\n",
       "    <tr>\n",
       "      <th>70174</th>\n",
       "      <td>-2</td>\n",
       "      <td>7</td>\n",
       "      <td>5</td>\n",
       "      <td>2017-11-03 14:42:15.107974</td>\n",
       "      <td>[2.0, -2.0, 7.0, 5.0, 39999999.0, 0.0, 14958.889]</td>\n",
       "      <td>-1</td>\n",
       "    </tr>\n",
       "    <tr>\n",
       "      <th>70175</th>\n",
       "      <td>-2</td>\n",
       "      <td>8</td>\n",
       "      <td>1</td>\n",
       "      <td>2017-11-03 14:42:15.107974</td>\n",
       "      <td>[2.0, -2.0, 8.0, 1.0, 72116.9, 85.0, 14958.889]</td>\n",
       "      <td>-1</td>\n",
       "    </tr>\n",
       "    <tr>\n",
       "      <th>70176</th>\n",
       "      <td>-2</td>\n",
       "      <td>8</td>\n",
       "      <td>2</td>\n",
       "      <td>2017-11-03 14:42:15.107974</td>\n",
       "      <td>[2.0, -2.0, 8.0, 2.0, 13734.3, 20.5, 14958.889]</td>\n",
       "      <td>-1</td>\n",
       "    </tr>\n",
       "    <tr>\n",
       "      <th>70177</th>\n",
       "      <td>-2</td>\n",
       "      <td>8</td>\n",
       "      <td>3</td>\n",
       "      <td>2017-11-03 14:42:15.107974</td>\n",
       "      <td>[2.0, -2.0, 8.0, 3.0, 3293.5, 6.9, 14958.889]</td>\n",
       "      <td>-1</td>\n",
       "    </tr>\n",
       "    <tr>\n",
       "      <th>70178</th>\n",
       "      <td>-2</td>\n",
       "      <td>8</td>\n",
       "      <td>4</td>\n",
       "      <td>2017-11-03 14:42:15.107974</td>\n",
       "      <td>[2.0, -2.0, 8.0, 4.0, 5251.0, 6.5, 14958.889]</td>\n",
       "      <td>-1</td>\n",
       "    </tr>\n",
       "    <tr>\n",
       "      <th>70179</th>\n",
       "      <td>-2</td>\n",
       "      <td>8</td>\n",
       "      <td>5</td>\n",
       "      <td>2017-11-03 14:42:15.107974</td>\n",
       "      <td>[2.0, -2.0, 8.0, 5.0, 39999999.0, 0.0, 14958.889]</td>\n",
       "      <td>-1</td>\n",
       "    </tr>\n",
       "    <tr>\n",
       "      <th>70180</th>\n",
       "      <td>-2</td>\n",
       "      <td>9</td>\n",
       "      <td>1</td>\n",
       "      <td>2017-11-03 14:42:15.107974</td>\n",
       "      <td>[2.0, -2.0, 9.0, 1.0, 67910.4, 20.9, 14958.889]</td>\n",
       "      <td>-1</td>\n",
       "    </tr>\n",
       "    <tr>\n",
       "      <th>70181</th>\n",
       "      <td>-2</td>\n",
       "      <td>9</td>\n",
       "      <td>2</td>\n",
       "      <td>2017-11-03 14:42:15.107974</td>\n",
       "      <td>[2.0, -2.0, 9.0, 2.0, 13721.9, 19.9, 14958.889]</td>\n",
       "      <td>-1</td>\n",
       "    </tr>\n",
       "    <tr>\n",
       "      <th>70182</th>\n",
       "      <td>-2</td>\n",
       "      <td>9</td>\n",
       "      <td>3</td>\n",
       "      <td>2017-11-03 14:42:15.107974</td>\n",
       "      <td>[2.0, -2.0, 9.0, 3.0, 3292.5, 11.8, 14958.889]</td>\n",
       "      <td>-1</td>\n",
       "    </tr>\n",
       "    <tr>\n",
       "      <th>70183</th>\n",
       "      <td>-2</td>\n",
       "      <td>9</td>\n",
       "      <td>4</td>\n",
       "      <td>2017-11-03 14:42:15.107974</td>\n",
       "      <td>[2.0, -2.0, 9.0, 4.0, 1084.5, 6.5, 14958.889]</td>\n",
       "      <td>-1</td>\n",
       "    </tr>\n",
       "    <tr>\n",
       "      <th>70184</th>\n",
       "      <td>-2</td>\n",
       "      <td>9</td>\n",
       "      <td>5</td>\n",
       "      <td>2017-11-03 14:42:15.107974</td>\n",
       "      <td>[2.0, -2.0, 9.0, 5.0, 2926.5, 8.7, 14958.889]</td>\n",
       "      <td>-1</td>\n",
       "    </tr>\n",
       "    <tr>\n",
       "      <th>70185</th>\n",
       "      <td>-2</td>\n",
       "      <td>10</td>\n",
       "      <td>1</td>\n",
       "      <td>2017-11-03 14:42:15.107974</td>\n",
       "      <td>[2.0, -2.0, 10.0, 1.0, 67129.9, 37.4, 14958.889]</td>\n",
       "      <td>-1</td>\n",
       "    </tr>\n",
       "    <tr>\n",
       "      <th>70186</th>\n",
       "      <td>-2</td>\n",
       "      <td>10</td>\n",
       "      <td>2</td>\n",
       "      <td>2017-11-03 14:42:15.107974</td>\n",
       "      <td>[2.0, -2.0, 10.0, 2.0, 12763.6, 14.1, 14958.889]</td>\n",
       "      <td>-1</td>\n",
       "    </tr>\n",
       "    <tr>\n",
       "      <th>70187</th>\n",
       "      <td>-2</td>\n",
       "      <td>10</td>\n",
       "      <td>3</td>\n",
       "      <td>2017-11-03 14:42:15.107974</td>\n",
       "      <td>[2.0, -2.0, 10.0, 3.0, 3208.2, 6.6, 14958.889]</td>\n",
       "      <td>-1</td>\n",
       "    </tr>\n",
       "    <tr>\n",
       "      <th>70188</th>\n",
       "      <td>-2</td>\n",
       "      <td>10</td>\n",
       "      <td>4</td>\n",
       "      <td>2017-11-03 14:42:15.107974</td>\n",
       "      <td>[2.0, -2.0, 10.0, 4.0, 1132.3, 3.8, 14958.889]</td>\n",
       "      <td>-1</td>\n",
       "    </tr>\n",
       "    <tr>\n",
       "      <th>70189</th>\n",
       "      <td>-2</td>\n",
       "      <td>10</td>\n",
       "      <td>5</td>\n",
       "      <td>2017-11-03 14:42:15.107974</td>\n",
       "      <td>[2.0, -2.0, 10.0, 5.0, 1150.1, 2.2, 14958.889]</td>\n",
       "      <td>-1</td>\n",
       "    </tr>\n",
       "    <tr>\n",
       "      <th>70190</th>\n",
       "      <td>-2</td>\n",
       "      <td>11</td>\n",
       "      <td>1</td>\n",
       "      <td>2017-11-03 14:42:15.107974</td>\n",
       "      <td>[2.0, -2.0, 11.0, 1.0, 70565.0, 80.1, 14958.889]</td>\n",
       "      <td>-1</td>\n",
       "    </tr>\n",
       "    <tr>\n",
       "      <th>70191</th>\n",
       "      <td>-2</td>\n",
       "      <td>11</td>\n",
       "      <td>2</td>\n",
       "      <td>2017-11-03 14:42:15.107974</td>\n",
       "      <td>[2.0, -2.0, 11.0, 2.0, 13489.3, 20.1, 14958.889]</td>\n",
       "      <td>-1</td>\n",
       "    </tr>\n",
       "    <tr>\n",
       "      <th>70192</th>\n",
       "      <td>-2</td>\n",
       "      <td>11</td>\n",
       "      <td>3</td>\n",
       "      <td>2017-11-03 14:42:15.107974</td>\n",
       "      <td>[2.0, -2.0, 11.0, 3.0, 3290.6, 6.8, 14958.889]</td>\n",
       "      <td>-1</td>\n",
       "    </tr>\n",
       "    <tr>\n",
       "      <th>70193</th>\n",
       "      <td>-2</td>\n",
       "      <td>11</td>\n",
       "      <td>4</td>\n",
       "      <td>2017-11-03 14:42:15.107974</td>\n",
       "      <td>[2.0, -2.0, 11.0, 4.0, 1076.9, 2.7, 14958.889]</td>\n",
       "      <td>-1</td>\n",
       "    </tr>\n",
       "    <tr>\n",
       "      <th>70194</th>\n",
       "      <td>-2</td>\n",
       "      <td>11</td>\n",
       "      <td>5</td>\n",
       "      <td>2017-11-03 14:42:15.107974</td>\n",
       "      <td>[2.0, -2.0, 11.0, 5.0, 39999999.0, 0.0, 14958....</td>\n",
       "      <td>-1</td>\n",
       "    </tr>\n",
       "    <tr>\n",
       "      <th>70195</th>\n",
       "      <td>-2</td>\n",
       "      <td>12</td>\n",
       "      <td>1</td>\n",
       "      <td>2017-11-03 14:42:15.107974</td>\n",
       "      <td>[2.0, -2.0, 12.0, 1.0, 70857.6, 35.8, 14958.889]</td>\n",
       "      <td>-1</td>\n",
       "    </tr>\n",
       "    <tr>\n",
       "      <th>70196</th>\n",
       "      <td>-2</td>\n",
       "      <td>12</td>\n",
       "      <td>2</td>\n",
       "      <td>2017-11-03 14:42:15.107974</td>\n",
       "      <td>[2.0, -2.0, 12.0, 2.0, 13461.3, 25.9, 14958.889]</td>\n",
       "      <td>-1</td>\n",
       "    </tr>\n",
       "    <tr>\n",
       "      <th>70197</th>\n",
       "      <td>-2</td>\n",
       "      <td>12</td>\n",
       "      <td>3</td>\n",
       "      <td>2017-11-03 14:42:15.107974</td>\n",
       "      <td>[2.0, -2.0, 12.0, 3.0, 3247.7, 5.2, 14958.889]</td>\n",
       "      <td>-1</td>\n",
       "    </tr>\n",
       "    <tr>\n",
       "      <th>70198</th>\n",
       "      <td>-2</td>\n",
       "      <td>12</td>\n",
       "      <td>4</td>\n",
       "      <td>2017-11-03 14:42:15.107974</td>\n",
       "      <td>[2.0, -2.0, 12.0, 4.0, 5303.7, 7.9, 14958.889]</td>\n",
       "      <td>-1</td>\n",
       "    </tr>\n",
       "    <tr>\n",
       "      <th>70199</th>\n",
       "      <td>-2</td>\n",
       "      <td>12</td>\n",
       "      <td>5</td>\n",
       "      <td>2017-11-03 14:42:15.107974</td>\n",
       "      <td>[2.0, -2.0, 12.0, 5.0, 39999999.0, 0.0, 14958....</td>\n",
       "      <td>-1</td>\n",
       "    </tr>\n",
       "  </tbody>\n",
       "</table>\n",
       "<p>70200 rows × 6 columns</p>\n",
       "</div>"
      ],
      "text/plain": [
       "      wheel sector station                       time  \\\n",
       "0         0      1       1 2017-11-03 13:10:13.317721   \n",
       "1         0      1       2 2017-11-03 13:10:13.317721   \n",
       "2         0      1       3 2017-11-03 13:10:13.317721   \n",
       "3         0      1       4 2017-11-03 13:10:13.317721   \n",
       "4         0      1       5 2017-11-03 13:10:13.317721   \n",
       "5         0      2       1 2017-11-03 13:10:13.317721   \n",
       "6         0      2       2 2017-11-03 13:10:13.317721   \n",
       "7         0      2       3 2017-11-03 13:10:13.317721   \n",
       "8         0      2       4 2017-11-03 13:10:13.317721   \n",
       "9         0      2       5 2017-11-03 13:10:13.317721   \n",
       "10        0      3       1 2017-11-03 13:10:13.317721   \n",
       "11        0      3       2 2017-11-03 13:10:13.317721   \n",
       "12        0      3       3 2017-11-03 13:10:13.317721   \n",
       "13        0      3       4 2017-11-03 13:10:13.317721   \n",
       "14        0      3       5 2017-11-03 13:10:13.317721   \n",
       "15        0      4       1 2017-11-03 13:10:13.317721   \n",
       "16        0      4       2 2017-11-03 13:10:13.317721   \n",
       "17        0      4       3 2017-11-03 13:10:13.317721   \n",
       "18        0      4       4 2017-11-03 13:10:13.317721   \n",
       "19        0      4       5 2017-11-03 13:10:13.317721   \n",
       "20        0      5       1 2017-11-03 13:10:13.317721   \n",
       "21        0      5       2 2017-11-03 13:10:13.317721   \n",
       "22        0      5       3 2017-11-03 13:10:13.317721   \n",
       "23        0      5       4 2017-11-03 13:10:13.317721   \n",
       "24        0      5       5 2017-11-03 13:10:13.317721   \n",
       "25        0      6       1 2017-11-03 13:10:13.317721   \n",
       "26        0      6       2 2017-11-03 13:10:13.317721   \n",
       "27        0      6       3 2017-11-03 13:10:13.317721   \n",
       "28        0      6       4 2017-11-03 13:10:13.317721   \n",
       "29        0      6       5 2017-11-03 13:10:13.317721   \n",
       "...     ...    ...     ...                        ...   \n",
       "70170    -2      7       1 2017-11-03 14:42:15.107974   \n",
       "70171    -2      7       2 2017-11-03 14:42:15.107974   \n",
       "70172    -2      7       3 2017-11-03 14:42:15.107974   \n",
       "70173    -2      7       4 2017-11-03 14:42:15.107974   \n",
       "70174    -2      7       5 2017-11-03 14:42:15.107974   \n",
       "70175    -2      8       1 2017-11-03 14:42:15.107974   \n",
       "70176    -2      8       2 2017-11-03 14:42:15.107974   \n",
       "70177    -2      8       3 2017-11-03 14:42:15.107974   \n",
       "70178    -2      8       4 2017-11-03 14:42:15.107974   \n",
       "70179    -2      8       5 2017-11-03 14:42:15.107974   \n",
       "70180    -2      9       1 2017-11-03 14:42:15.107974   \n",
       "70181    -2      9       2 2017-11-03 14:42:15.107974   \n",
       "70182    -2      9       3 2017-11-03 14:42:15.107974   \n",
       "70183    -2      9       4 2017-11-03 14:42:15.107974   \n",
       "70184    -2      9       5 2017-11-03 14:42:15.107974   \n",
       "70185    -2     10       1 2017-11-03 14:42:15.107974   \n",
       "70186    -2     10       2 2017-11-03 14:42:15.107974   \n",
       "70187    -2     10       3 2017-11-03 14:42:15.107974   \n",
       "70188    -2     10       4 2017-11-03 14:42:15.107974   \n",
       "70189    -2     10       5 2017-11-03 14:42:15.107974   \n",
       "70190    -2     11       1 2017-11-03 14:42:15.107974   \n",
       "70191    -2     11       2 2017-11-03 14:42:15.107974   \n",
       "70192    -2     11       3 2017-11-03 14:42:15.107974   \n",
       "70193    -2     11       4 2017-11-03 14:42:15.107974   \n",
       "70194    -2     11       5 2017-11-03 14:42:15.107974   \n",
       "70195    -2     12       1 2017-11-03 14:42:15.107974   \n",
       "70196    -2     12       2 2017-11-03 14:42:15.107974   \n",
       "70197    -2     12       3 2017-11-03 14:42:15.107974   \n",
       "70198    -2     12       4 2017-11-03 14:42:15.107974   \n",
       "70199    -2     12       5 2017-11-03 14:42:15.107974   \n",
       "\n",
       "                                                 content score  \n",
       "0         [2.0, 0.0, 1.0, 1.0, 21874.2, 71.2, 17527.957]    -1  \n",
       "1         [2.0, 0.0, 1.0, 2.0, 10558.2, 37.0, 17527.957]    -1  \n",
       "2          [2.0, 0.0, 1.0, 3.0, 4017.7, 13.8, 17527.957]    -1  \n",
       "3          [2.0, 0.0, 1.0, 4.0, 5525.2, 17.4, 17527.957]    -1  \n",
       "4       [2.0, 0.0, 1.0, 5.0, 39999999.0, 0.0, 17527.957]    -1  \n",
       "5         [2.0, 0.0, 2.0, 1.0, 23102.7, 57.1, 17527.957]    -1  \n",
       "6         [2.0, 0.0, 2.0, 2.0, 10578.9, 31.1, 17527.957]    -1  \n",
       "7          [2.0, 0.0, 2.0, 3.0, 4139.2, 11.3, 17527.957]    -1  \n",
       "8          [2.0, 0.0, 2.0, 4.0, 7581.4, 18.7, 17527.957]    -1  \n",
       "9      [2.0, 0.0, 2.0, 5.0, 39810549.2, 772.5, 17527....    -1  \n",
       "10        [2.0, 0.0, 3.0, 1.0, 23485.3, 30.1, 17527.957]    -1  \n",
       "11        [2.0, 0.0, 3.0, 2.0, 10897.4, 15.3, 17527.957]    -1  \n",
       "12          [2.0, 0.0, 3.0, 3.0, 4235.3, 9.9, 17527.957]    -1  \n",
       "13        [2.0, 0.0, 3.0, 4.0, 11714.9, 21.9, 17527.957]    -1  \n",
       "14      [2.0, 0.0, 3.0, 5.0, 39999999.0, 0.0, 17527.957]    -1  \n",
       "15        [2.0, 0.0, 4.0, 1.0, 23080.6, 87.3, 17527.957]    -1  \n",
       "16        [2.0, 0.0, 4.0, 2.0, 10721.4, 41.5, 17527.957]    -1  \n",
       "17         [2.0, 0.0, 4.0, 3.0, 4262.9, 15.3, 17527.957]    -1  \n",
       "18        [2.0, 0.0, 4.0, 4.0, 10447.3, 41.3, 17527.957]    -1  \n",
       "19        [2.0, 0.0, 4.0, 5.0, 11015.9, 42.9, 17527.957]    -1  \n",
       "20        [2.0, 0.0, 5.0, 1.0, 22667.6, 73.0, 17527.957]    -1  \n",
       "21        [2.0, 0.0, 5.0, 2.0, 10597.7, 37.2, 17527.957]    -1  \n",
       "22         [2.0, 0.0, 5.0, 3.0, 4140.7, 14.3, 17527.957]    -1  \n",
       "23        [2.0, 0.0, 5.0, 4.0, 12520.5, 39.2, 17527.957]    -1  \n",
       "24      [2.0, 0.0, 5.0, 5.0, 39999999.0, 0.0, 17527.957]    -1  \n",
       "25        [2.0, 0.0, 6.0, 1.0, 22653.5, 38.6, 17527.957]    -1  \n",
       "26        [2.0, 0.0, 6.0, 2.0, 10709.5, 22.0, 17527.957]    -1  \n",
       "27          [2.0, 0.0, 6.0, 3.0, 4102.4, 7.0, 17527.957]    -1  \n",
       "28         [2.0, 0.0, 6.0, 4.0, 8009.1, 13.9, 17527.957]    -1  \n",
       "29      [2.0, 0.0, 6.0, 5.0, 39999999.0, 0.0, 17527.957]    -1  \n",
       "...                                                  ...   ...  \n",
       "70170    [2.0, -2.0, 7.0, 1.0, 73755.4, 72.1, 14958.889]    -1  \n",
       "70171    [2.0, -2.0, 7.0, 2.0, 13679.7, 20.2, 14958.889]    -1  \n",
       "70172     [2.0, -2.0, 7.0, 3.0, 3312.6, 10.6, 14958.889]    -1  \n",
       "70173     [2.0, -2.0, 7.0, 4.0, 7258.4, 16.7, 14958.889]    -1  \n",
       "70174  [2.0, -2.0, 7.0, 5.0, 39999999.0, 0.0, 14958.889]    -1  \n",
       "70175    [2.0, -2.0, 8.0, 1.0, 72116.9, 85.0, 14958.889]    -1  \n",
       "70176    [2.0, -2.0, 8.0, 2.0, 13734.3, 20.5, 14958.889]    -1  \n",
       "70177      [2.0, -2.0, 8.0, 3.0, 3293.5, 6.9, 14958.889]    -1  \n",
       "70178      [2.0, -2.0, 8.0, 4.0, 5251.0, 6.5, 14958.889]    -1  \n",
       "70179  [2.0, -2.0, 8.0, 5.0, 39999999.0, 0.0, 14958.889]    -1  \n",
       "70180    [2.0, -2.0, 9.0, 1.0, 67910.4, 20.9, 14958.889]    -1  \n",
       "70181    [2.0, -2.0, 9.0, 2.0, 13721.9, 19.9, 14958.889]    -1  \n",
       "70182     [2.0, -2.0, 9.0, 3.0, 3292.5, 11.8, 14958.889]    -1  \n",
       "70183      [2.0, -2.0, 9.0, 4.0, 1084.5, 6.5, 14958.889]    -1  \n",
       "70184      [2.0, -2.0, 9.0, 5.0, 2926.5, 8.7, 14958.889]    -1  \n",
       "70185   [2.0, -2.0, 10.0, 1.0, 67129.9, 37.4, 14958.889]    -1  \n",
       "70186   [2.0, -2.0, 10.0, 2.0, 12763.6, 14.1, 14958.889]    -1  \n",
       "70187     [2.0, -2.0, 10.0, 3.0, 3208.2, 6.6, 14958.889]    -1  \n",
       "70188     [2.0, -2.0, 10.0, 4.0, 1132.3, 3.8, 14958.889]    -1  \n",
       "70189     [2.0, -2.0, 10.0, 5.0, 1150.1, 2.2, 14958.889]    -1  \n",
       "70190   [2.0, -2.0, 11.0, 1.0, 70565.0, 80.1, 14958.889]    -1  \n",
       "70191   [2.0, -2.0, 11.0, 2.0, 13489.3, 20.1, 14958.889]    -1  \n",
       "70192     [2.0, -2.0, 11.0, 3.0, 3290.6, 6.8, 14958.889]    -1  \n",
       "70193     [2.0, -2.0, 11.0, 4.0, 1076.9, 2.7, 14958.889]    -1  \n",
       "70194  [2.0, -2.0, 11.0, 5.0, 39999999.0, 0.0, 14958....    -1  \n",
       "70195   [2.0, -2.0, 12.0, 1.0, 70857.6, 35.8, 14958.889]    -1  \n",
       "70196   [2.0, -2.0, 12.0, 2.0, 13461.3, 25.9, 14958.889]    -1  \n",
       "70197     [2.0, -2.0, 12.0, 3.0, 3247.7, 5.2, 14958.889]    -1  \n",
       "70198     [2.0, -2.0, 12.0, 4.0, 5303.7, 7.9, 14958.889]    -1  \n",
       "70199  [2.0, -2.0, 12.0, 5.0, 39999999.0, 0.0, 14958....    -1  \n",
       "\n",
       "[70200 rows x 6 columns]"
      ]
     },
     "execution_count": 311,
     "metadata": {},
     "output_type": "execute_result"
    }
   ],
   "source": [
    "def assignRate(df):\n",
    "    rule1 = (df[\"wheel\"] == 1) & (df[\"sector\"] == 4) & (df[\"station\"] == 1)# not good\n",
    "    indexes1 = df[rule1].index\n",
    "    #print indexes\n",
    "    for i in indexes1:\n",
    "        time = df.loc[i][\"time\"]\n",
    "        rule2 = (df[\"wheel\"] == 1) & (df[\"sector\"] == 10) & (df[\"station\"] == 1) & (df[\"time\"] == time)\n",
    "        indexes2 = (df[rule2].index)\n",
    "        #print i, index, time\n",
    "        if(len(indexes2) > 0):\n",
    "            j = indexes2[0]\n",
    "            array = df.loc[j][\"content\"]\n",
    "            rate = array[4] #good rate from the symmetric sector\n",
    "            content_orig = df.loc[i][\"content\"]\n",
    "            content = content_orig.copy()\n",
    "            content[4] = rate\n",
    "            df.at[i, \"content\"] = content\n",
    "            #print i, j, time, rate, content_orig, content\n",
    "        else:\n",
    "            content_orig = df.loc[i][\"content\"]\n",
    "            content = content_orig.copy()\n",
    "            content[4] = -1\n",
    "            df.at[i, \"content\"] = content\n",
    "            #print i, j, time, rate, content_orig, content\n",
    "\n",
    "assignRate(normalies)"
   ]
  },
  {
   "cell_type": "code",
   "execution_count": 312,
   "metadata": {},
   "outputs": [
    {
     "name": "stdout",
     "output_type": "stream",
     "text": [
      "    wheel sector station                       time  \\\n",
      "105     1     10       1 2017-11-03 13:10:13.317721   \n",
      "106     1     10       2 2017-11-03 13:10:13.317721   \n",
      "107     1     10       3 2017-11-03 13:10:13.317721   \n",
      "108     1     10       4 2017-11-03 13:10:13.317721   \n",
      "109     1     10       5 2017-11-03 13:10:13.317721   \n",
      "\n",
      "                                             content score  \n",
      "105  [2.0, 1.0, 10.0, 1.0, 31928.0, 36.8, 17527.957]    -1  \n",
      "106  [2.0, 1.0, 10.0, 2.0, 12472.5, 19.9, 17527.957]    -1  \n",
      "107    [2.0, 1.0, 10.0, 3.0, 4639.8, 9.9, 17527.957]    -1  \n",
      "108    [2.0, 1.0, 10.0, 4.0, 1485.9, 3.4, 17527.957]    -1  \n",
      "109    [2.0, 1.0, 10.0, 5.0, 1477.8, 3.8, 17527.957]    -1  \n",
      "   wheel sector station                       time  \\\n",
      "75     1      4       1 2017-11-03 13:10:13.317721   \n",
      "76     1      4       2 2017-11-03 13:10:13.317721   \n",
      "77     1      4       3 2017-11-03 13:10:13.317721   \n",
      "78     1      4       4 2017-11-03 13:10:13.317721   \n",
      "79     1      4       5 2017-11-03 13:10:13.317721   \n",
      "\n",
      "                                           content score  \n",
      "75  [2.0, 1.0, 4.0, 1.0, 31928.0, 31.9, 17527.957]    -1  \n",
      "76  [2.0, 1.0, 4.0, 2.0, 10977.3, 13.1, 17527.957]    -1  \n",
      "77    [2.0, 1.0, 4.0, 3.0, 3185.4, 5.9, 17527.957]    -1  \n",
      "78   [2.0, 1.0, 4.0, 4.0, 9477.1, 18.3, 17527.957]    -1  \n",
      "79   [2.0, 1.0, 4.0, 5.0, 9742.2, 27.9, 17527.957]    -1  \n"
     ]
    }
   ],
   "source": [
    "rule = (normalies[\"wheel\"] == 1) & (normalies[\"sector\"] == 10) & (normalies[\"time\"] == \"2017-11-03 13:10:13.317721\")\n",
    "print normalies[rule]\n",
    "\n",
    "rule = (normalies[\"wheel\"] == 1) & (normalies[\"sector\"] == 4) & (normalies[\"time\"] == \"2017-11-03 13:10:13.317721\")\n",
    "print normalies[rule]"
   ]
  },
  {
   "cell_type": "code",
   "execution_count": 314,
   "metadata": {},
   "outputs": [
    {
     "name": "stdout",
     "output_type": "stream",
     "text": [
      "    wheel sector station                       time  \\\n",
      "105     1     10       1 2017-11-03 13:10:13.317721   \n",
      "106     1     10       2 2017-11-03 13:10:13.317721   \n",
      "107     1     10       3 2017-11-03 13:10:13.317721   \n",
      "108     1     10       4 2017-11-03 13:10:13.317721   \n",
      "109     1     10       5 2017-11-03 13:10:13.317721   \n",
      "\n",
      "                                             content score  \n",
      "105  [2.0, 1.0, 10.0, 1.0, 31928.0, 36.8, 17527.957]    -1  \n",
      "106  [2.0, 1.0, 10.0, 2.0, 12472.5, 19.9, 17527.957]    -1  \n",
      "107    [2.0, 1.0, 10.0, 3.0, 4639.8, 9.9, 17527.957]    -1  \n",
      "108    [2.0, 1.0, 10.0, 4.0, 1485.9, 3.4, 17527.957]    -1  \n",
      "109    [2.0, 1.0, 10.0, 5.0, 1477.8, 3.8, 17527.957]    -1  \n",
      "   wheel sector station                       time  \\\n",
      "75     1      4       1 2017-11-03 13:10:13.317721   \n",
      "76     1      4       2 2017-11-03 13:10:13.317721   \n",
      "77     1      4       3 2017-11-03 13:10:13.317721   \n",
      "78     1      4       4 2017-11-03 13:10:13.317721   \n",
      "79     1      4       5 2017-11-03 13:10:13.317721   \n",
      "\n",
      "                                           content score  \n",
      "75  [2.0, 1.0, 4.0, 1.0, 27856.3, 31.9, 17527.957]     1  \n",
      "76  [2.0, 1.0, 4.0, 2.0, 10977.3, 13.1, 17527.957]    -1  \n",
      "77    [2.0, 1.0, 4.0, 3.0, 3185.4, 5.9, 17527.957]    -1  \n",
      "78   [2.0, 1.0, 4.0, 4.0, 9477.1, 18.3, 17527.957]    -1  \n",
      "79   [2.0, 1.0, 4.0, 5.0, 9742.2, 27.9, 17527.957]    -1  \n"
     ]
    }
   ],
   "source": [
    "rule = (anomalies[\"wheel\"] == 1) & (anomalies[\"sector\"] == 10) & (anomalies[\"time\"] == \"2017-11-03 13:10:13.317721\")\n",
    "print anomalies[rule]\n",
    "\n",
    "rule = (anomalies[\"wheel\"] == 1) & (anomalies[\"sector\"] == 4) & (anomalies[\"time\"] == \"2017-11-03 13:10:13.317721\")\n",
    "print anomalies[rule]"
   ]
  },
  {
   "cell_type": "code",
   "execution_count": 315,
   "metadata": {},
   "outputs": [
    {
     "name": "stdout",
     "output_type": "stream",
     "text": [
      "234 faults and 70200 good samples. In total: 70434.\n",
      "Number of anomalies in the train set: 47\n",
      "Number of normal in the train set: 14040\n"
     ]
    }
   ],
   "source": [
    "# Set a random seed to reproduce the results\n",
    "rng = np.random.RandomState(0)\n",
    "anomalies = anomalies[anomalies.score == 1]\n",
    "normalies = normalies[normalies.score == -1]\n",
    "print(\"%s faults and %s good samples. In total: %s.\" %\n",
    "      (len(anomalies), len(normalies), len(anomalies) + len(normalies)))\n",
    "\n",
    "anomalies_train, anomalies_test = train_test_split(anomalies, test_size = 0.2, random_state=rng)\n",
    "normalies_train, normalies_test = train_test_split(normalies, test_size = 0.2, random_state=rng)\n",
    "\n",
    "neural_anomalies_train, neural_anomalies_val = train_test_split(anomalies_train, test_size = 0.2, random_state=rng)\n",
    "neural_normalies_train, neural_normalies_val = train_test_split(normalies_train, test_size = 0.2, random_state=rng)\n",
    "\n",
    "layers_train = pd.concat([anomalies_train, normalies_train])\n",
    "layers_test = pd.concat([anomalies_test, normalies_test])\n",
    "\n",
    "neural_train = pd.concat([neural_anomalies_train, neural_normalies_train])\n",
    "neural_val = pd.concat([neural_anomalies_val, neural_normalies_val])"
   ]
  },
  {
   "cell_type": "code",
   "execution_count": 327,
   "metadata": {},
   "outputs": [
    {
     "name": "stdout",
     "output_type": "stream",
     "text": [
      "Number of anomalies in the train set: 187\n",
      "Number of normal in the train set: 56160\n",
      "Number of anomalies in the test set: 47\n",
      "Number of normal in the test set: 14040\n"
     ]
    }
   ],
   "source": [
    "print(\"Number of anomalies in the train set: %s\" % len(anomalies_train))\n",
    "print(\"Number of normal in the train set: %s\" % len(normalies_train))\n",
    "print(\"Number of anomalies in the test set: %s\" % len(anomalies_test))\n",
    "print(\"Number of normal in the test set: %s\" % len(normalies_test))"
   ]
  },
  {
   "cell_type": "code",
   "execution_count": 318,
   "metadata": {},
   "outputs": [],
   "source": [
    "sess = tf.Session()\n",
    "K.set_session(sess)"
   ]
  },
  {
   "cell_type": "code",
   "execution_count": 319,
   "metadata": {},
   "outputs": [],
   "source": [
    "def score_to_array(score):\n",
    "    if score == -1:\n",
    "        return np.asarray([1, 0])\n",
    "    return np.asarray([0, 1])\n",
    "\n",
    "def nn_generate_input():  \n",
    "    return (np.array(np.concatenate(neural_train.content.values)).reshape(-1, 7),\n",
    "            np.concatenate(neural_train[\"score\"].apply(score_to_array).values).reshape(-1, 2),\n",
    "            np.array(np.concatenate(neural_val.content.values)).reshape(-1, 7),\n",
    "            np.concatenate(neural_val[\"score\"].apply(score_to_array).values).reshape(-1, 2),\n",
    "            np.array(np.concatenate(layers_test.content.values)).reshape(-1, 7))\n",
    "\n",
    "(train_x, train_y, val_x, val_y, test_x) = nn_generate_input()"
   ]
  },
  {
   "cell_type": "markdown",
   "metadata": {},
   "source": [
    "Defining NN structure:"
   ]
  },
  {
   "cell_type": "code",
   "execution_count": 320,
   "metadata": {},
   "outputs": [],
   "source": [
    "def neural_network():\n",
    "    model = Sequential()\n",
    "    model.add(Reshape((7, 1), input_shape=(7,), name='input_ann'))\n",
    "    model.add(Flatten(name=\"flatten_ann\"))\n",
    "    model.add(Dense(16, activation='relu', name=\"dense_ann\"))\n",
    "    model.add(Dense(2, activation='softmax', name='output_ann'))\n",
    "    return model"
   ]
  },
  {
   "cell_type": "code",
   "execution_count": 321,
   "metadata": {},
   "outputs": [
    {
     "name": "stdout",
     "output_type": "stream",
     "text": [
      "Neural Network Architecture:\n",
      "_________________________________________________________________\n",
      "Layer (type)                 Output Shape              Param #   \n",
      "=================================================================\n",
      "input_ann (Reshape)          (None, 7, 1)              0         \n",
      "_________________________________________________________________\n",
      "flatten_ann (Flatten)        (None, 7)                 0         \n",
      "_________________________________________________________________\n",
      "dense_ann (Dense)            (None, 16)                128       \n",
      "_________________________________________________________________\n",
      "output_ann (Dense)           (None, 2)                 34        \n",
      "=================================================================\n",
      "Total params: 162\n",
      "Trainable params: 162\n",
      "Non-trainable params: 0\n",
      "_________________________________________________________________\n"
     ]
    }
   ],
   "source": [
    "ann = neural_network()\n",
    "print(\"Neural Network Architecture:\")\n",
    "ann.summary()"
   ]
  },
  {
   "cell_type": "markdown",
   "metadata": {},
   "source": [
    "Training the NN:"
   ]
  },
  {
   "cell_type": "code",
   "execution_count": 322,
   "metadata": {},
   "outputs": [],
   "source": [
    "# This may take some time...\n",
    "\n",
    "def train_nn(model, x, y, batch_size, loss, name, validation_data=None, \n",
    "             validation_split=0.0, class_weight=None):\n",
    "\n",
    "    model.compile(loss=loss, optimizer='Nadam')\n",
    "\n",
    "    early_stopper = EarlyStopping(monitor=\"val_loss\",\n",
    "                                  patience=32,\n",
    "                                  verbose=True,\n",
    "                                  mode=\"auto\")\n",
    "    \n",
    "    checkpoint_callback = ModelCheckpoint((\"./model_keras/%s.h5\" % name),\n",
    "                                          monitor=\"val_loss\",\n",
    "                                          verbose=False,\n",
    "                                          save_best_only=True,\n",
    "                                          mode=\"min\")\n",
    "    return model.fit(x, y,\n",
    "                     batch_size=batch_size,\n",
    "                     epochs=8192,\n",
    "                     verbose=False,\n",
    "                     class_weight=class_weight,\n",
    "                     shuffle=True,\n",
    "                     validation_split=validation_split,\n",
    "                     validation_data=validation_data,\n",
    "                     callbacks=[early_stopper, checkpoint_callback])"
   ]
  },
  {
   "cell_type": "code",
   "execution_count": 323,
   "metadata": {},
   "outputs": [
    {
     "name": "stdout",
     "output_type": "stream",
     "text": [
      "Epoch 00096: early stopping\n"
     ]
    }
   ],
   "source": [
    "history_ann = train_nn(ann,\n",
    "                       train_x,\n",
    "                       train_y,\n",
    "                       len(train_x),\n",
    "                       keras.losses.categorical_crossentropy,\n",
    "                       \"ann\",\n",
    "                       validation_data=(val_x, val_y),\n",
    "                       class_weight=None)"
   ]
  },
  {
   "cell_type": "markdown",
   "metadata": {},
   "source": [
    "Making an inference using the model and the test sample:"
   ]
  },
  {
   "cell_type": "code",
   "execution_count": 324,
   "metadata": {},
   "outputs": [],
   "source": [
    "ann_model = load_model(\"./model_keras/ann.h5\")\n",
    "layers_test[\"ann_score\"] = ann_model.predict(np.array(test_x))[:, 1]"
   ]
  },
  {
   "cell_type": "code",
   "execution_count": 365,
   "metadata": {},
   "outputs": [],
   "source": [
    "#print layers_test[\"ann_score\"]\n",
    "#print layers_test[\"score\"]"
   ]
  },
  {
   "cell_type": "code",
   "execution_count": 337,
   "metadata": {},
   "outputs": [],
   "source": [
    "layers_test[\"score\"] = layers_test[\"score\"].astype('int')"
   ]
  },
  {
   "cell_type": "code",
   "execution_count": 339,
   "metadata": {},
   "outputs": [
    {
     "name": "stdout",
     "output_type": "stream",
     "text": [
      "Model accuracy: 0.6641\n",
      "Model sensitivity: 1.0\n",
      "Model specificity: 0.663\n"
     ]
    }
   ],
   "source": [
    "def benchmark(y_true, y_score, treshold):\n",
    "    y_pred = 2*(y_score > treshold)-1\n",
    "    tn, fp, fn, tp = confusion_matrix(y_true, y_pred).ravel()\n",
    "    sensitivity = round(float(tp)/(tp+fn), 4)\n",
    "    specificity = round(float(tn)/(tn+fp), 4)\n",
    "\n",
    "    print(\"Model accuracy: %s\" % round(accuracy_score(y_true, y_pred), 4))\n",
    "    print(\"Model sensitivity: %s\" % sensitivity)\n",
    "    print(\"Model specificity: %s\" % specificity)\n",
    "\n",
    "    return specificity, sensitivity\n",
    "    \n",
    "specificity_ann, sensitivity_ann = benchmark(layers_test[\"score\"], layers_test[\"ann_score\"], 0.5)"
   ]
  },
  {
   "cell_type": "code",
   "execution_count": 360,
   "metadata": {},
   "outputs": [],
   "source": [
    "def get_roc_curve(test_df, models, working_point=None):\n",
    "    \"\"\"Generates ROC Curves for a given array\"\"\"\n",
    "    fig, ax = plt.subplots()\n",
    "\n",
    "    for legend_label, model_score in models:\n",
    "        false_positive_rate, true_positive_rate, _ = roc_curve(test_df[\"score\"],\n",
    "                                                               test_df[model_score])\n",
    "\n",
    "        plt.plot(false_positive_rate, true_positive_rate, linewidth=2,\n",
    "                 label=('%s, AUC: %s' % (legend_label,\n",
    "                                         round(auc(false_positive_rate, true_positive_rate), 4))))\n",
    "    if working_point:\n",
    "        plt.plot(1-working_point[0],\n",
    "                 working_point[1],\n",
    "                 'o',\n",
    "                 label=\"ANN working point\")\n",
    "    plt.title(\"ROC\")\n",
    "    plt.legend(loc='best')\n",
    "    plt.ylabel('Sensitivity (TPR)')\n",
    "    plt.xlabel('Fall-out (TNR)')\n",
    "    plt.show();"
   ]
  },
  {
   "cell_type": "code",
   "execution_count": 361,
   "metadata": {},
   "outputs": [
    {
     "data": {
      "image/png": "[encoded data removed]",
      "text/plain": [
       "<matplotlib.figure.Figure at 0x11df4cf90>"
      ]
     },
     "metadata": {},
     "output_type": "display_data"
    }
   ],
   "source": [
    "get_roc_curve(layers_test, [[\"Neural Network\", \"ann_score\"]], (specificity_ann, sensitivity_ann))"
   ]
  },
  {
   "cell_type": "code",
   "execution_count": 359,
   "metadata": {},
   "outputs": [
    {
     "data": {
      "image/png": "[encoded data removed]",
      "text/plain": [
       "<matplotlib.figure.Figure at 0x11c2bf390>"
      ]
     },
     "metadata": {},
     "output_type": "display_data"
    }
   ],
   "source": [
    "# Distribution of scores:\n",
    "layers_test[\"ann_score\"].plot.hist(bins=20, logy=True);"
   ]
  },
  {
   "cell_type": "code",
   "execution_count": null,
   "metadata": {},
   "outputs": [],
   "source": []
  }
 ],
 "metadata": {
  "kernelspec": {
   "display_name": "Python 2",
   "language": "python",
   "name": "python2"
  },
  "language_info": {
   "codemirror_mode": {
    "name": "ipython",
    "version": 2
   },
   "file_extension": ".py",
   "mimetype": "text/x-python",
   "name": "python",
   "nbconvert_exporter": "python",
   "pygments_lexer": "ipython2",
   "version": "2.7.14"
  }
 },
 "nbformat": 4,
 "nbformat_minor": 2
}
